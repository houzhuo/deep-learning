{
 "cells": [
  {
   "cell_type": "code",
   "execution_count": 27,
   "metadata": {},
   "outputs": [
    {
     "name": "stdout",
     "output_type": "stream",
     "text": [
      "(183, 18) (164, 18) (278, 18) (154, 18) (176, 18) (200, 18) (192, 18) (174, 18)\n",
      "(1521, 44) (1521, 18) (1521, 26)\n"
     ]
    }
   ],
   "source": [
    "# Ignore warnings\n",
    "import warnings\n",
    "warnings.filterwarnings('ignore')\n",
    "\n",
    "# Handle table-like data and matrices\n",
    "import numpy as np\n",
    "import pandas as pd\n",
    "\n",
    "from sklearn.preprocessing import MinMaxScaler\n",
    "\n",
    "# Modelling Algorithms\n",
    "from sklearn.tree import DecisionTreeClassifier\n",
    "from sklearn.ensemble import RandomForestClassifier , GradientBoostingClassifier\n",
    "\n",
    "# Modelling Helpers\n",
    "from sklearn.preprocessing import Imputer , Normalizer , scale\n",
    "from sklearn.cross_validation import train_test_split , StratifiedKFold\n",
    "from sklearn.feature_selection import RFECV\n",
    "from sklearn.preprocessing import LabelEncoder\n",
    "\n",
    "# Visualisation\n",
    "import matplotlib as mpl\n",
    "import matplotlib.pyplot as plt\n",
    "import matplotlib.pylab as pylab\n",
    "import seaborn as sns\n",
    "%matplotlib inline\n",
    "from matplotlib.pylab import rcParams\n",
    "rcParams['figure.figsize'] = 12, 4\n",
    "# Configure visualisations\n",
    "#%matplotlib inline\n",
    "mpl.style.use( 'ggplot' )\n",
    "sns.set_style( 'white' )\n",
    "sns.set(color_codes=True) # Set style and color of graphs\n",
    "\n",
    "import pandas as pd\n",
    "f1 = pd.read_csv(\"/Users/houzhuo/Downloads/data/02_01/02_01.csv\")\n",
    "f2 = pd.read_csv(\"/Users/houzhuo/Downloads/data/02_02/02_02.csv\")\n",
    "f3 = pd.read_csv(\"/Users/houzhuo/Downloads/data/05_01/05_01.csv\")\n",
    "f4 = pd.read_csv(\"/Users/houzhuo/Downloads/data/06_01/06_01.csv\")\n",
    "f5 = pd.read_csv(\"/Users/houzhuo/Downloads/data/07_01/07_01.csv\")\n",
    "f6 = pd.read_csv(\"/Users/houzhuo/Downloads/data/07_02/07_02.csv\")\n",
    "f7 = pd.read_csv(\"/Users/houzhuo/Downloads/data/07_03/07_03.csv\")\n",
    "f8 = pd.read_csv(\"/Users/houzhuo/Downloads/data/07_04/07_04.csv\")\n",
    "\n",
    "print(f1.shape,f2.shape,f3.shape,f4.shape,f6.shape,f7.shape,f8.shape,f5.shape)\n",
    "cap = pd.concat([f1,f2,f3,f4,f6,f7,f8,f5],axis=0)\n",
    "t1 = pd.read_csv(\"/Users/houzhuo/Downloads/data/02_01/test3.csv\")\n",
    "t2 = pd.read_csv(\"/Users/houzhuo/Downloads/data/02_02/test3.csv\")\n",
    "t3 = pd.read_csv(\"/Users/houzhuo/Downloads/data/05_01/test3.csv\")\n",
    "t4 = pd.read_csv(\"/Users/houzhuo/Downloads/data/06_01/test3.csv\")\n",
    "t5 = pd.read_csv(\"/Users/houzhuo/Downloads/data/07_01/test3.csv\")\n",
    "t6 = pd.read_csv(\"/Users/houzhuo/Downloads/data/07_02/test3.csv\")\n",
    "t7 = pd.read_csv(\"/Users/houzhuo/Downloads/data/07_03/test3.csv\")\n",
    "t8 = pd.read_csv(\"/Users/houzhuo/Downloads/data/07_04/test3.csv\")\n",
    "rob = pd.concat([t1,t2,t3,t4,t6,t7,t8,t5],axis=0)\n",
    "full = pd.concat([cap,rob],axis=1)\n",
    "print(full.shape,cap.shape,rob.shape)\n",
    "\n",
    "\n",
    "from sklearn.linear_model import ElasticNet, Lasso,  BayesianRidge, LassoLarsIC\n",
    "from sklearn.ensemble import RandomForestRegressor,  GradientBoostingRegressor\n",
    "from sklearn.kernel_ridge import KernelRidge\n",
    "from sklearn.pipeline import make_pipeline\n",
    "from sklearn.preprocessing import RobustScaler\n",
    "from sklearn.base import BaseEstimator, TransformerMixin, RegressorMixin, clone\n",
    "from sklearn.model_selection import KFold, cross_val_score, train_test_split\n",
    "from sklearn.metrics import mean_squared_error\n",
    "from lightgbm import LGBMRegressor\n",
    "from xgboost import XGBRegressor\n",
    "from mlxtend.regressor import StackingCVRegressor\n",
    "from sklearn import model_selection\n",
    "\n",
    "rf = RandomForestRegressor(n_estimators=190, \n",
    "                           max_features= 'sqrt',verbose= 0 )\n",
    "lasso = make_pipeline(RobustScaler(), Lasso(alpha =0.0005, random_state=1))\n",
    "ENet = make_pipeline(RobustScaler(), ElasticNet(alpha=0.0005, l1_ratio=.9, random_state=3))\n",
    "KRR = KernelRidge(alpha=0.6, kernel='polynomial', degree=2, coef0=2.5)\n",
    "gbm = GradientBoostingRegressor(n_estimators=3000, learning_rate=0.05,\n",
    "                                   max_depth=4, max_features='sqrt',\n",
    "                                   min_samples_leaf=15, min_samples_split=10, \n",
    "                                   loss='huber', random_state =5)\n",
    "xgb = XGBRegressor(colsample_bytree=0.4603, gamma=0.0468, \n",
    "                             learning_rate=0.05, max_depth=3, \n",
    "                             min_child_weight=1.7817, n_estimators=2000,\n",
    "                             reg_alpha=0.4640, reg_lambda=0.8571,\n",
    "                             subsample=0.5213, silent=1,\n",
    "                             random_state =7, nthread = -1)\n",
    "\n",
    "lgb = LGBMRegressor(objective='regression',num_leaves=5,\n",
    "                              learning_rate=0.05, n_estimators=720,\n",
    "                              max_bin = 55, bagging_fraction = 0.8,\n",
    "                              bagging_freq = 5, feature_fraction = 0.2319,\n",
    "                              feature_fraction_seed=9, bagging_seed=9,\n",
    "                              min_data_in_leaf =6, min_sum_hessian_in_leaf = 11)\n",
    "\n",
    "full.head()"
   ]
  },
  {
   "cell_type": "code",
   "execution_count": 43,
   "metadata": {
    "collapsed": true
   },
   "outputs": [],
   "source": [
    "def load_data(location):\n",
    "    dataset = pd.concat([full['1'],full['2'],full['3'],full['4'],full['5'],full['6'],full['7'],full['8'],full['9'],full[location]] , axis=1 )\n",
    "    dataset.head()\n",
    "    type(dataset)\n",
    "    import matplotlib.pyplot as plt\n",
    "    values = dataset.values\n",
    "    # specify columns to plot\n",
    "    groups = [0, 1, 2, 3,4,5,6,7,8,9]\n",
    "    i=1\n",
    "    plt.figure(figsize=(18,12))\n",
    "    for group in groups:\n",
    "        plt.subplot(len(groups), 1, i)\n",
    "        plt.plot(values[:, group])\n",
    "        plt.title(dataset.columns[group], y=0.5, loc='right')\n",
    "        i += 1\n",
    "    plt.show()\n",
    "    \n",
    "    values = dataset.values\n",
    "    values = dataset.astype(np.float32)#inverse的关键一步。why？？\n",
    "    n_features=9\n",
    "\n",
    "    scaler = MinMaxScaler(feature_range=(0, 1))\n",
    "    scaled = scaler.fit_transform(values)\n",
    "\n",
    "\n",
    "    train = scaled[:1347,:]\n",
    "    val = scaled[1347:,:]\n",
    "\n",
    "\n",
    "\n",
    "    train_X,train_y = train[:,:n_features],train[:,-1]\n",
    "    val_X,val_y = val[:,:n_features],val[:,-1]#第一个多少行\n",
    "    print(train_X.shape,train_y.shape)\n",
    "    return train_X,train_y,val_X,val_y,val,scaler"
   ]
  },
  {
   "cell_type": "code",
   "execution_count": 47,
   "metadata": {},
   "outputs": [],
   "source": [
    "def rmsle(y, y_pred):\n",
    "    return np.sqrt(mean_squared_error(y, y_pred))\n",
    "def train_predict(train_X,train_y,val_X,val_y):\n",
    "    print('============================predicting==============================')\n",
    "    stack = StackingCVRegressor(regressors=(lasso,rf,xgb,ENet, KRR, lgb, gbm), \n",
    "                              meta_regressor=ENet)\n",
    "\n",
    "    stack.fit(train_X, train_y)\n",
    "    #sclf_pred = sclf.predict(X_train.values)\n",
    "    stack_train_pred = stack.predict(train_X)\n",
    "    stack_pred = stack.predict(val_X)\n",
    "    print('mean_squared_error:')\n",
    "    print(rmsle(train_y, stack_train_pred))\n",
    "    return stack_pred"
   ]
  },
  {
   "cell_type": "code",
   "execution_count": 45,
   "metadata": {},
   "outputs": [],
   "source": [
    "from numpy import concatenate\n",
    "\n",
    "def inverse_data(stack_pred,val,val_y,scaler):\n",
    "    res_pred = stack_pred.reshape(-1,1)\n",
    "    inv_pred_con = concatenate((val[:,0:9],res_pred), axis=1)\n",
    "    inv_pred = scaler.inverse_transform(inv_pred_con)\n",
    "    inv_pred = inv_pred[:,-1] \n",
    "\n",
    "\n",
    "    res_y = val_y.reshape(-1,1)\n",
    "    inv_y_con = concatenate(( val[:,0:9],res_y), axis=1)\n",
    "    inv_y = scaler.inverse_transform(inv_y_con)\n",
    "    inv_y = inv_y[:,-1]\n",
    "    plt.figure()\n",
    "    plt.plot(inv_pred, label = 'predict')\n",
    "    plt.plot(inv_y, label = 'true')\n",
    "    plt.legend()\n",
    "    plt.show()\n",
    "    return inv_pred,\n"
   ]
  },
  {
   "cell_type": "code",
   "execution_count": 50,
   "metadata": {},
   "outputs": [
    {
     "name": "stdout",
     "output_type": "stream",
     "text": [
      "Elbow_R\n",
      "Hand\n"
     ]
    }
   ],
   "source": [
    "for i in ['Shoulder_pitch_R','Shoulder_R','Elbow_R','Forearm_R','Hand_R']:\n",
    "    location = i\n",
    "    train_X,train_y,val_X,val_y,val,scaler = load_data(location)\n",
    "    stack_pred = train_predict(train_X,train_y,val_X,val_y)\n",
    "    inv_pred = inverse_data(stack_pred,val,val_y,scaler)\n",
    "    test = pd.DataFrame( { 'Id': Id , i: stack_pred.astype(np.int64) } )\n",
    "    test.to_csv( 'house_pred.csv' , index = False )"
   ]
  },
  {
   "cell_type": "code",
   "execution_count": 71,
   "metadata": {},
   "outputs": [
    {
     "name": "stdout",
     "output_type": "stream",
     "text": [
      "<class 'numpy.ndarray'>\n"
     ]
    }
   ],
   "source": [
    "\n",
    "a = [1,2,3]\n",
    "b = [4,5,6]\n",
    "ar = np.array(a)\n",
    "br = np.array(b)\n",
    "j=1\n",
    "print(type(ar))\n",
    "test = pd.DataFrame( { 'Shoulder_pitch_R' : ar,'Shoulder_R':ar } )\n",
    "for i in ['Shoulder_pitch_R','Shoulder_R']:\n",
    "    test = pd.DataFrame( { i : ar } )\n",
    "    test.to_csv( 'motion_pred.csv' , index = False )"
   ]
  },
  {
   "cell_type": "code",
   "execution_count": null,
   "metadata": {
    "collapsed": true
   },
   "outputs": [],
   "source": [
    "test = pd.DataFrame( { i: stack_pred.astype(np.int64) } )"
   ]
  }
 ],
 "metadata": {
  "kernelspec": {
   "display_name": "Python 3",
   "language": "python",
   "name": "python3"
  },
  "language_info": {
   "codemirror_mode": {
    "name": "ipython",
    "version": 3
   },
   "file_extension": ".py",
   "mimetype": "text/x-python",
   "name": "python",
   "nbconvert_exporter": "python",
   "pygments_lexer": "ipython3",
   "version": "3.6.3"
  }
 },
 "nbformat": 4,
 "nbformat_minor": 2
}
