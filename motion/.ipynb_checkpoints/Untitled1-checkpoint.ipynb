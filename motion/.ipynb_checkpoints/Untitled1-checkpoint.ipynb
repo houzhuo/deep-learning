{
 "cells": [
  {
   "cell_type": "code",
   "execution_count": 9,
   "metadata": {},
   "outputs": [],
   "source": [
    "from pandas import DataFrame\n",
    "from pandas import concat\n",
    "from pandas import read_csv\n",
    "from pandas import datetime\n",
    "from sklearn.metrics import mean_squared_error\n",
    "from math import sqrt\n",
    "from matplotlib import pyplot as plt\n",
    " \n",
    "# date-time parsing function for loading the dataset\n",
    "def parser(x):\n",
    "\treturn datetime.strptime('190'+x, '%Y-%m')\n",
    " \n",
    "# convert time series into supervised learning problem\n",
    "def series_to_supervised(data, n_in=1, n_out=1, dropnan=True):\n",
    "\tn_vars = 1 if type(data) is list else data.shape[1]\n",
    "\tdf = DataFrame(data)\n",
    "\tcols, names = list(), list()\n",
    "\t# input sequence (t-n, ... t-1)\n",
    "\tfor i in range(n_in, 0, -1):\n",
    "\t\tcols.append(df.shift(i))\n",
    "\t\tnames += [('var%d(t-%d)' % (j+1, i)) for j in range(n_vars)]\n",
    "\t# forecast sequence (t, t+1, ... t+n)\n",
    "\tfor i in range(0, n_out):\n",
    "\t\tcols.append(df.shift(-i))\n",
    "\t\tif i == 0:\n",
    "\t\t\tnames += [('var%d(t)' % (j+1)) for j in range(n_vars)]\n",
    "\t\telse:\n",
    "\t\t\tnames += [('var%d(t+%d)' % (j+1, i)) for j in range(n_vars)]\n",
    "\t# put it all together\n",
    "\tagg = concat(cols, axis=1)\n",
    "\tagg.columns = names\n",
    "\t# drop rows with NaN values\n",
    "\tif dropnan:\n",
    "\t\tagg.dropna(inplace=True)\n",
    "\treturn agg"
   ]
  },
  {
   "cell_type": "code",
   "execution_count": 2,
   "metadata": {
    "collapsed": true
   },
   "outputs": [],
   "source": [
    "# transform series into train and test sets for supervised learning\n",
    "def prepare_data(series, n_test, n_lag, n_seq):\n",
    "\t# extract raw values\n",
    "\traw_values = series.values\n",
    "\traw_values = raw_values.reshape(len(raw_values), 1)#拉直\n",
    "\t# transform into supervised learning problem X, y\n",
    "\tsupervised = series_to_supervised(raw_values, n_lag, n_seq) \n",
    "\tsupervised_values = supervised.values\n",
    "\t# split into train and test sets\n",
    "\ttrain, test = supervised_values[0:-n_test], supervised_values[-n_test:]\n",
    "\treturn train, test"
   ]
  },
  {
   "cell_type": "code",
   "execution_count": 12,
   "metadata": {},
   "outputs": [
    {
     "name": "stdout",
     "output_type": "stream",
     "text": [
      "       Sales of shampoo over a three year period\n",
      "Month                                           \n",
      "1-01                                       266.0\n",
      "1-02                                       145.9\n",
      "1-03                                       183.1\n",
      "1-04                                       119.3\n",
      "1-05                                       180.3\n",
      "[[342.3 339.7 440.4 315.9]\n",
      " [339.7 440.4 315.9 439.3]\n",
      " [440.4 315.9 439.3 401.3]\n",
      " [315.9 439.3 401.3 437.4]\n",
      " [439.3 401.3 437.4 575.5]\n",
      " [401.3 437.4 575.5 407.6]\n",
      " [437.4 575.5 407.6 682. ]\n",
      " [575.5 407.6 682.  475.3]\n",
      " [407.6 682.  475.3 581.3]\n",
      " [682.  475.3 581.3 646.9]]\n",
      "Train: (23, 4), Test: (10, 4)\n"
     ]
    },
    {
     "data": {
      "image/png": "[encoded data removed]",
      "text/plain": [
       "<matplotlib.figure.Figure at 0x114782a90>"
      ]
     },
     "metadata": {},
     "output_type": "display_data"
    }
   ],
   "source": [
    "# load dataset\n",
    "series = read_csv('/Users/houzhuo/Downloads/shampoo1.csv', header=0, index_col=0)\n",
    "# configure\n",
    "n_lag = 1\n",
    "n_seq = 3\n",
    "n_test = 10\n",
    "# prepare data\n",
    "print(series.head())\n",
    "train, test = prepare_data(series, n_test, n_lag, n_seq)\n",
    "print(test)\n",
    "print('Train: %s, Test: %s' % (train.shape, test.shape))\n",
    "series.plot()\n",
    "plt.show()"
   ]
  },
  {
   "cell_type": "code",
   "execution_count": 14,
   "metadata": {
    "collapsed": true
   },
   "outputs": [],
   "source": [
    "# make a persistence forecast\n",
    "def persistence(last_ob, n_seq):\n",
    "\treturn [last_ob for i in range(n_seq)]#取最后一个观察值，并且输出一个向量，包含seq个不变的观察值\n",
    " \n",
    "# evaluate the persistence model\n",
    "def make_forecasts(train, test, n_lag, n_seq):\n",
    "\tforecasts = list()\n",
    "\tfor i in range(len(test)):\n",
    "\t\tX, y = test[i, 0:n_lag], test[i, n_lag:]#第i行的第一个；第i行后三列\n",
    "\t\t# make forecast\n",
    "\t\tforecast = persistence(X[-1], n_seq)\n",
    "\t\t# store the forecast\n",
    "\t\tforecasts.append(forecast)#输出test行（10个）值为第三列的列表。10*3\n",
    "\treturn forecasts\n",
    " "
   ]
  },
  {
   "cell_type": "code",
   "execution_count": 18,
   "metadata": {},
   "outputs": [
    {
     "data": {
      "text/plain": [
       "[[342.3, 342.3, 342.3],\n",
       " [339.7, 339.7, 339.7],\n",
       " [440.4, 440.4, 440.4],\n",
       " [315.9, 315.9, 315.9],\n",
       " [439.3, 439.3, 439.3],\n",
       " [401.3, 401.3, 401.3],\n",
       " [437.4, 437.4, 437.4],\n",
       " [575.5, 575.5, 575.5],\n",
       " [407.6, 407.6, 407.6],\n",
       " [682.0, 682.0, 682.0]]"
      ]
     },
     "execution_count": 18,
     "metadata": {},
     "output_type": "execute_result"
    }
   ],
   "source": [
    "forecasts = make_forecasts(train, test, 1, 3)\n",
    "forecasts\n"
   ]
  },
  {
   "cell_type": "code",
   "execution_count": 19,
   "metadata": {},
   "outputs": [
    {
     "data": {
      "text/plain": [
       "[440.4, 440.4, 440.4]"
      ]
     },
     "execution_count": 19,
     "metadata": {},
     "output_type": "execute_result"
    }
   ],
   "source": [
    "persistence(test[0, 0:3][-1],3)"
   ]
  },
  {
   "cell_type": "code",
   "execution_count": null,
   "metadata": {
    "collapsed": true
   },
   "outputs": [],
   "source": []
  }
 ],
 "metadata": {
  "kernelspec": {
   "display_name": "Python 3",
   "language": "python",
   "name": "python3"
  },
  "language_info": {
   "codemirror_mode": {
    "name": "ipython",
    "version": 3
   },
   "file_extension": ".py",
   "mimetype": "text/x-python",
   "name": "python",
   "nbconvert_exporter": "python",
   "pygments_lexer": "ipython3",
   "version": "3.6.3"
  }
 },
 "nbformat": 4,
 "nbformat_minor": 2
}
