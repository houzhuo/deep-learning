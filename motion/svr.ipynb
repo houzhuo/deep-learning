{
 "cells": [
  {
   "cell_type": "code",
   "execution_count": 1,
   "metadata": {},
   "outputs": [
    {
     "name": "stderr",
     "output_type": "stream",
     "text": [
      "/Users/houzhuo/Documents/anaconda3/lib/python3.6/site-packages/h5py/__init__.py:36: FutureWarning: Conversion of the second argument of issubdtype from `float` to `np.floating` is deprecated. In future, it will be treated as `np.float64 == np.dtype(float).type`.\n",
      "  from ._conv import register_converters as _register_converters\n",
      "Using TensorFlow backend.\n"
     ]
    },
    {
     "data": {
      "text/html": [
       "<div>\n",
       "<style>\n",
       "    .dataframe thead tr:only-child th {\n",
       "        text-align: right;\n",
       "    }\n",
       "\n",
       "    .dataframe thead th {\n",
       "        text-align: left;\n",
       "    }\n",
       "\n",
       "    .dataframe tbody tr th {\n",
       "        vertical-align: top;\n",
       "    }\n",
       "</style>\n",
       "<table border=\"1\" class=\"dataframe\">\n",
       "  <thead>\n",
       "    <tr style=\"text-align: right;\">\n",
       "      <th></th>\n",
       "      <th>No</th>\n",
       "      <th>1</th>\n",
       "      <th>2</th>\n",
       "      <th>3</th>\n",
       "      <th>4</th>\n",
       "      <th>5</th>\n",
       "      <th>6</th>\n",
       "      <th>7</th>\n",
       "      <th>8</th>\n",
       "      <th>9</th>\n",
       "      <th>...</th>\n",
       "      <th>Shoulder_L</th>\n",
       "      <th>Hiproll_R</th>\n",
       "      <th>Shoulder_R</th>\n",
       "      <th>Hip</th>\n",
       "      <th>Moe</th>\n",
       "      <th>Hip_R</th>\n",
       "      <th>Head</th>\n",
       "      <th>Shoulder_peach_L</th>\n",
       "      <th>Head_pitch</th>\n",
       "      <th>Shoulder_pitch_R</th>\n",
       "    </tr>\n",
       "  </thead>\n",
       "  <tbody>\n",
       "    <tr>\n",
       "      <th>0</th>\n",
       "      <td>1</td>\n",
       "      <td>-70.2093</td>\n",
       "      <td>77.6512</td>\n",
       "      <td>-2.40005</td>\n",
       "      <td>-30.6520</td>\n",
       "      <td>-70.7097</td>\n",
       "      <td>-18.5101</td>\n",
       "      <td>-1.48789</td>\n",
       "      <td>6.43077</td>\n",
       "      <td>-90.1392</td>\n",
       "      <td>...</td>\n",
       "      <td>-2016.000000</td>\n",
       "      <td>0.000000</td>\n",
       "      <td>2199.000000</td>\n",
       "      <td>0.0</td>\n",
       "      <td>261.000000</td>\n",
       "      <td>0.0</td>\n",
       "      <td>916.000000</td>\n",
       "      <td>1072.0</td>\n",
       "      <td>-271.0</td>\n",
       "      <td>-1028.0</td>\n",
       "    </tr>\n",
       "    <tr>\n",
       "      <th>1</th>\n",
       "      <td>2</td>\n",
       "      <td>-70.2093</td>\n",
       "      <td>77.6512</td>\n",
       "      <td>-2.40005</td>\n",
       "      <td>-30.0076</td>\n",
       "      <td>-70.6074</td>\n",
       "      <td>-17.7873</td>\n",
       "      <td>-1.51620</td>\n",
       "      <td>6.45095</td>\n",
       "      <td>-90.1584</td>\n",
       "      <td>...</td>\n",
       "      <td>-2018.228261</td>\n",
       "      <td>-5.869565</td>\n",
       "      <td>2193.141304</td>\n",
       "      <td>0.0</td>\n",
       "      <td>261.608696</td>\n",
       "      <td>0.0</td>\n",
       "      <td>917.586956</td>\n",
       "      <td>1072.0</td>\n",
       "      <td>-271.0</td>\n",
       "      <td>-1028.0</td>\n",
       "    </tr>\n",
       "    <tr>\n",
       "      <th>2</th>\n",
       "      <td>3</td>\n",
       "      <td>-70.2093</td>\n",
       "      <td>77.6512</td>\n",
       "      <td>-2.40005</td>\n",
       "      <td>-29.4269</td>\n",
       "      <td>-70.5241</td>\n",
       "      <td>-17.1182</td>\n",
       "      <td>-1.53064</td>\n",
       "      <td>6.46612</td>\n",
       "      <td>-90.1798</td>\n",
       "      <td>...</td>\n",
       "      <td>-2020.456522</td>\n",
       "      <td>-11.739130</td>\n",
       "      <td>2187.282609</td>\n",
       "      <td>0.0</td>\n",
       "      <td>262.217391</td>\n",
       "      <td>0.0</td>\n",
       "      <td>919.173913</td>\n",
       "      <td>1072.0</td>\n",
       "      <td>-271.0</td>\n",
       "      <td>-1028.0</td>\n",
       "    </tr>\n",
       "    <tr>\n",
       "      <th>3</th>\n",
       "      <td>4</td>\n",
       "      <td>-70.2093</td>\n",
       "      <td>77.6512</td>\n",
       "      <td>-2.40005</td>\n",
       "      <td>-28.9343</td>\n",
       "      <td>-70.4591</td>\n",
       "      <td>-16.5383</td>\n",
       "      <td>-1.52306</td>\n",
       "      <td>6.47134</td>\n",
       "      <td>-90.2022</td>\n",
       "      <td>...</td>\n",
       "      <td>-2022.684783</td>\n",
       "      <td>-17.608696</td>\n",
       "      <td>2181.423913</td>\n",
       "      <td>0.0</td>\n",
       "      <td>262.826087</td>\n",
       "      <td>0.0</td>\n",
       "      <td>920.760870</td>\n",
       "      <td>1072.0</td>\n",
       "      <td>-271.0</td>\n",
       "      <td>-1028.0</td>\n",
       "    </tr>\n",
       "    <tr>\n",
       "      <th>4</th>\n",
       "      <td>5</td>\n",
       "      <td>-70.2093</td>\n",
       "      <td>77.6512</td>\n",
       "      <td>-2.40005</td>\n",
       "      <td>-28.3700</td>\n",
       "      <td>-70.3946</td>\n",
       "      <td>-15.9114</td>\n",
       "      <td>-1.51531</td>\n",
       "      <td>6.47130</td>\n",
       "      <td>-90.2185</td>\n",
       "      <td>...</td>\n",
       "      <td>-2024.913043</td>\n",
       "      <td>-23.478261</td>\n",
       "      <td>2175.565217</td>\n",
       "      <td>0.0</td>\n",
       "      <td>263.434783</td>\n",
       "      <td>0.0</td>\n",
       "      <td>922.347826</td>\n",
       "      <td>1072.0</td>\n",
       "      <td>-271.0</td>\n",
       "      <td>-1028.0</td>\n",
       "    </tr>\n",
       "  </tbody>\n",
       "</table>\n",
       "<p>5 rows × 108 columns</p>\n",
       "</div>"
      ],
      "text/plain": [
       "   No        1        2        3        4        5        6        7        8  \\\n",
       "0   1 -70.2093  77.6512 -2.40005 -30.6520 -70.7097 -18.5101 -1.48789  6.43077   \n",
       "1   2 -70.2093  77.6512 -2.40005 -30.0076 -70.6074 -17.7873 -1.51620  6.45095   \n",
       "2   3 -70.2093  77.6512 -2.40005 -29.4269 -70.5241 -17.1182 -1.53064  6.46612   \n",
       "3   4 -70.2093  77.6512 -2.40005 -28.9343 -70.4591 -16.5383 -1.52306  6.47134   \n",
       "4   5 -70.2093  77.6512 -2.40005 -28.3700 -70.3946 -15.9114 -1.51531  6.47130   \n",
       "\n",
       "         9        ...          Shoulder_L  Hiproll_R   Shoulder_R  Hip  \\\n",
       "0 -90.1392        ...        -2016.000000   0.000000  2199.000000  0.0   \n",
       "1 -90.1584        ...        -2018.228261  -5.869565  2193.141304  0.0   \n",
       "2 -90.1798        ...        -2020.456522 -11.739130  2187.282609  0.0   \n",
       "3 -90.2022        ...        -2022.684783 -17.608696  2181.423913  0.0   \n",
       "4 -90.2185        ...        -2024.913043 -23.478261  2175.565217  0.0   \n",
       "\n",
       "          Moe  Hip_R        Head  Shoulder_peach_L  Head_pitch  \\\n",
       "0  261.000000    0.0  916.000000            1072.0      -271.0   \n",
       "1  261.608696    0.0  917.586956            1072.0      -271.0   \n",
       "2  262.217391    0.0  919.173913            1072.0      -271.0   \n",
       "3  262.826087    0.0  920.760870            1072.0      -271.0   \n",
       "4  263.434783    0.0  922.347826            1072.0      -271.0   \n",
       "\n",
       "   Shoulder_pitch_R  \n",
       "0           -1028.0  \n",
       "1           -1028.0  \n",
       "2           -1028.0  \n",
       "3           -1028.0  \n",
       "4           -1028.0  \n",
       "\n",
       "[5 rows x 108 columns]"
      ]
     },
     "execution_count": 1,
     "metadata": {},
     "output_type": "execute_result"
    }
   ],
   "source": [
    "from __future__ import division  \n",
    "import time  \n",
    "import numpy as np  \n",
    "from sklearn.svm import SVR  \n",
    "from sklearn.model_selection import GridSearchCV  \n",
    "from sklearn.model_selection import learning_curve  \n",
    "import matplotlib.pyplot as plt  \n",
    "  \n",
    "from math import sqrt\n",
    "from numpy import concatenate\n",
    "from matplotlib import pyplot\n",
    "from pandas import read_csv\n",
    "from pandas import DataFrame\n",
    "from pandas import concat\n",
    "from sklearn.preprocessing import MinMaxScaler\n",
    "from sklearn.preprocessing import LabelEncoder\n",
    "from sklearn.metrics import mean_squared_error\n",
    "from keras.models import Sequential\n",
    "from keras.layers import Dense\n",
    "from keras.layers import LSTM\n",
    " \n",
    "# convert series to supervised learning\n",
    "def series_to_supervised(data, n_in=1, n_out=1, dropnan=True):\n",
    "\tn_vars = 1 if type(data) is list else data.shape[1]\n",
    "\tdf = DataFrame(data)\n",
    "\tcols, names = list(), list()\n",
    "\t# input sequence (t-n, ... t-1)\n",
    "\tfor i in range(n_in, 0, -1):\n",
    "\t\tcols.append(df.shift(i))\n",
    "\t\tnames += [('var%d(t-%d)' % (j+1, i)) for j in range(n_vars)]\n",
    "\t# forecast sequence (t, t+1, ... t+n)\n",
    "\tfor i in range(0, n_out):\n",
    "\t\tcols.append(df.shift(-i))\n",
    "\t\tif i == 0:\n",
    "\t\t\tnames += [('var%d(t)' % (j+1)) for j in range(n_vars)]\n",
    "\t\telse:\n",
    "\t\t\tnames += [('var%d(t+%d)' % (j+1, i)) for j in range(n_vars)]\n",
    "\t# put it all together\n",
    "\tagg = concat(cols, axis=1)\n",
    "\tagg.columns = names\n",
    "\t# drop rows with NaN values\n",
    "\tif dropnan:\n",
    "\t\tagg.dropna(inplace=True)\n",
    "\treturn agg\n",
    "\n",
    "import pandas as pd\n",
    "cap = pd.read_csv(\"/Users/houzhuo/Downloads/capdata3.csv\")\n",
    "robot    = pd.read_csv(\"/Users/houzhuo/Downloads/robot.csv\")\n",
    "full = pd.concat([cap,robot],axis=1)\n",
    "full.head()"
   ]
  },
  {
   "cell_type": "code",
   "execution_count": 2,
   "metadata": {},
   "outputs": [
    {
     "data": {
      "text/plain": [
       "pandas.core.frame.DataFrame"
      ]
     },
     "execution_count": 2,
     "metadata": {},
     "output_type": "execute_result"
    }
   ],
   "source": [
    "#cap_head = pd.concat(cap_headx,cap_heady,cap_headz)\n",
    "dataset = pd.concat( [full['76'],full['77'],full['78'],full['Head'] ] , axis=1 )\n",
    "dataset.head()\n",
    "type(dataset)"
   ]
  },
  {
   "cell_type": "code",
   "execution_count": 10,
   "metadata": {},
   "outputs": [],
   "source": [
    "import numpy as np\n",
    "from sklearn import preprocessing\n",
    "#values = dataset.values\n",
    "values = dataset.astype(np.float32)\n",
    "#values -= np.mean(values, axis = 0)\n",
    "# normalize features\n",
    "#scaler = MinMaxScaler(feature_range=(0, 1))\n",
    "#scaled = scaler.fit_transform(values)\n",
    "# frame as supervised learning\n",
    "#reframed = series_to_supervised(scaled, 1, 1)\n",
    "#time_step=3\n",
    "#n_features=4\n",
    "#reframed = series_to_supervised(scaled, time_step, 1)\n",
    "\n",
    "#scaled\n",
    "#train_X= dataset[ 0:891 ]"
   ]
  },
  {
   "cell_type": "code",
   "execution_count": 28,
   "metadata": {},
   "outputs": [
    {
     "name": "stdout",
     "output_type": "stream",
     "text": [
      "(8000, 3) (8000,)\n"
     ]
    }
   ],
   "source": [
    "n_features=3\n",
    "values = dataset.values\n",
    "\n",
    "min_max_scaler = preprocessing.MinMaxScaler()\n",
    "scaled = min_max_scaler.fit_transform(values)\n",
    "\n",
    "\n",
    "train = scaled[:8000,:]\n",
    "val = scaled[8000:10000]\n",
    "test = scaled[10000:]\n",
    "\n",
    "\n",
    "\n",
    "\n",
    "n_obs = n_features\n",
    "train_X,train_y = train[:,:n_obs],train[:,-1]\n",
    "val_X,val_y = val[:,:n_obs],val[:,-1]#第一个多少行\n",
    "test_X,test_y = test[:,:n_obs],test[:,-1]\n",
    "print(train_X.shape,train_y.shape)"
   ]
  },
  {
   "cell_type": "code",
   "execution_count": 29,
   "metadata": {},
   "outputs": [
    {
     "name": "stdout",
     "output_type": "stream",
     "text": [
      "(8000, 4) [[0.41278111 0.52601125 0.50802221]\n",
      " [0.41812889 0.52942074 0.50977422]\n",
      " [0.4217995  0.53171622 0.51098208]\n",
      " ...\n",
      " [0.65020998 0.62424397 0.42628438]\n",
      " [0.64765043 0.62415558 0.43165925]\n",
      " [0.6467938  0.62455243 0.43252774]] [0.67820916 0.67876424 0.67931931 ... 0.66210297 0.66176985 0.66176985]\n"
     ]
    }
   ],
   "source": [
    "print(train.shape,train_X,train_y)"
   ]
  },
  {
   "cell_type": "code",
   "execution_count": 41,
   "metadata": {},
   "outputs": [
    {
     "name": "stdout",
     "output_type": "stream",
     "text": [
      "Fitting 5 folds for each of 20 candidates, totalling 100 fits\n"
     ]
    },
    {
     "name": "stderr",
     "output_type": "stream",
     "text": [
      "[Parallel(n_jobs=1)]: Done 100 out of 100 | elapsed:  2.8min finished\n"
     ]
    }
   ],
   "source": [
    "#训练规模  \n",
    "train_size = 3000  \n",
    "#初始化SVR  \n",
    "svr = GridSearchCV(SVR(kernel='rbf', gamma=0.3),verbose=True, cv=5,  \n",
    "                   param_grid={\"C\": [1e0, 1e1,1e2,1e3],  \n",
    "                               \"gamma\": np.logspace( -2,2, 5)})  \n",
    "#记录训练时间  \n",
    "t0 = time.time()  \n",
    "#训练  \n",
    "svr.fit(train_X[:train_size], train_y[:train_size])  \n",
    "svr_fit = time.time() - t0  \n",
    "  \n",
    "t0 = time.time()  \n",
    "#测试  \n",
    "y_svr = svr.predict(test_X)  \n",
    "svr_predict = time.time() - t0  "
   ]
  },
  {
   "cell_type": "code",
   "execution_count": 39,
   "metadata": {},
   "outputs": [
    {
     "ename": "NameError",
     "evalue": "name 'scaler' is not defined",
     "output_type": "error",
     "traceback": [
      "\u001b[0;31m---------------------------------------------------------------------------\u001b[0m",
      "\u001b[0;31mNameError\u001b[0m                                 Traceback (most recent call last)",
      "\u001b[0;32m<ipython-input-39-7c938add1671>\u001b[0m in \u001b[0;36m<module>\u001b[0;34m()\u001b[0m\n\u001b[1;32m      1\u001b[0m \u001b[0;31m#inv_yhat = concatenate((y_svr, test_X[:, -3:]))\u001b[0m\u001b[0;34m\u001b[0m\u001b[0;34m\u001b[0m\u001b[0m\n\u001b[0;32m----> 2\u001b[0;31m \u001b[0minv_yhat\u001b[0m \u001b[0;34m=\u001b[0m \u001b[0mscaler\u001b[0m\u001b[0;34m.\u001b[0m\u001b[0minverse_transform\u001b[0m\u001b[0;34m(\u001b[0m\u001b[0mtrain_X\u001b[0m\u001b[0;34m)\u001b[0m\u001b[0;34m\u001b[0m\u001b[0m\n\u001b[0m",
      "\u001b[0;31mNameError\u001b[0m: name 'scaler' is not defined"
     ]
    }
   ],
   "source": [
    "#inv_yhat = concatenate((y_svr, test_X[:, -3:]))\n",
    "inv_yhat = scaler.inverse_transform(train_X)"
   ]
  },
  {
   "cell_type": "code",
   "execution_count": 42,
   "metadata": {},
   "outputs": [
    {
     "name": "stderr",
     "output_type": "stream",
     "text": [
      "/Users/houzhuo/Documents/anaconda3/lib/python3.6/site-packages/ipykernel_launcher.py:7: MatplotlibDeprecationWarning: pyplot.hold is deprecated.\n",
      "    Future behavior will be consistent with the long-time default:\n",
      "    plot commands add elements without first clearing the\n",
      "    Axes and/or Figure.\n",
      "  import sys\n",
      "/Users/houzhuo/Documents/anaconda3/lib/python3.6/site-packages/matplotlib/__init__.py:805: MatplotlibDeprecationWarning: axes.hold is deprecated. Please remove it from your matplotlibrc and/or style files.\n",
      "  mplDeprecation)\n",
      "/Users/houzhuo/Documents/anaconda3/lib/python3.6/site-packages/matplotlib/rcsetup.py:155: MatplotlibDeprecationWarning: axes.hold is deprecated, will be removed in 3.0\n",
      "  mplDeprecation)\n"
     ]
    },
    {
     "data": {
      "text/plain": [
       "<matplotlib.figure.Figure at 0x124b0fcc0>"
      ]
     },
     "execution_count": 42,
     "metadata": {},
     "output_type": "execute_result"
    },
    {
     "data": {
      "image/png": "[encoded data removed]",
      "text/plain": [
       "<matplotlib.figure.Figure at 0x124a8c278>"
      ]
     },
     "metadata": {},
     "output_type": "display_data"
    },
    {
     "data": {
      "text/plain": [
       "<matplotlib.figure.Figure at 0x124b0fcc0>"
      ]
     },
     "metadata": {},
     "output_type": "display_data"
    }
   ],
   "source": [
    "%matplotlib inline\n",
    "import seaborn as sns\n",
    "import matplotlib as mpl\n",
    "import matplotlib.pyplot as plt\n",
    "# 对结果进行显示  \n",
    "#plt.scatter(test_X[:500], c='k', label='data', zorder=1)  \n",
    "plt.hold('on')  \n",
    "plt.plot(test_y,label='true')  \n",
    "plt.plot(y_svr,label='predict')\n",
    "  \n",
    "plt.xlabel('data')  \n",
    "plt.ylabel('target')  \n",
    "plt.title('SVR versus Kernel Ridge')  \n",
    "plt.legend()  \n",
    "  \n",
    "plt.figure()"
   ]
  },
  {
   "cell_type": "code",
   "execution_count": 40,
   "metadata": {},
   "outputs": [
    {
     "data": {
      "text/plain": [
       "array([0.52270323, 0.52270336, 0.52270411, 0.52270602, 0.5227075 ,\n",
       "       0.52270823, 0.52271067, 0.52271023, 0.52270508, 0.52270341,\n",
       "       0.52270323, 0.52270322, 0.52270322, 0.52270322, 0.52270322,\n",
       "       0.52270322, 0.52270322, 0.52270322, 0.52270322, 0.52270322,\n",
       "       0.52270322, 0.52270322, 0.52270322, 0.52270322, 0.52270322,\n",
       "       0.52270322, 0.52270322, 0.52270322, 0.52270322, 0.52270322,\n",
       "       0.52270322, 0.52270322, 0.52270322, 0.52270322, 0.52270322,\n",
       "       0.52270322, 0.52270322, 0.52270322, 0.52270322, 0.52270322,\n",
       "       0.52270322, 0.52270322, 0.52270322, 0.52270322, 0.52270322,\n",
       "       0.52270322, 0.52270322, 0.52270322, 0.52270322, 0.52270322,\n",
       "       0.52270322, 0.52270322, 0.52270322, 0.52270322, 0.52270322,\n",
       "       0.52270322, 0.52270322, 0.52270322, 0.52270322, 0.52270322,\n",
       "       0.52270322, 0.52270322, 0.52270322, 0.52270322, 0.52270322,\n",
       "       0.52270322, 0.52270322, 0.52270322, 0.52270322, 0.52270322,\n",
       "       0.52270322, 0.52270322, 0.52270322, 0.52270325, 0.52270341,\n",
       "       0.52270594, 0.52272886, 0.52279343, 0.52294639, 0.52347282,\n",
       "       0.52485585, 0.52696526, 0.52769895, 0.52572348, 0.52333795,\n",
       "       0.52241965, 0.52267093, 0.52304661, 0.5231146 , 0.52295263,\n",
       "       0.52280888, 0.52273829, 0.52271393, 0.5227063 , 0.52270376,\n",
       "       0.52270325, 0.52270322, 0.52270322, 0.52270322, 0.52270322,\n",
       "       0.52270322, 0.52270322, 0.52270322, 0.52270322, 0.52270322,\n",
       "       0.52270322, 0.52270322, 0.52270322, 0.52270322, 0.52270322,\n",
       "       0.52270322, 0.52270322, 0.52270322, 0.52270322, 0.52270322,\n",
       "       0.52270322, 0.52270322, 0.52270322, 0.52270322, 0.52270322,\n",
       "       0.52270322, 0.52270322, 0.52270322, 0.52270322, 0.52270322,\n",
       "       0.52270322, 0.52270322, 0.52270322, 0.52270322, 0.52270322,\n",
       "       0.52270322, 0.52270322, 0.52270322, 0.52270322, 0.52270322,\n",
       "       0.52270322, 0.52270322, 0.52270322, 0.52270322, 0.52270322,\n",
       "       0.52270322, 0.52270322, 0.52270322, 0.52270322, 0.52270322,\n",
       "       0.52270322, 0.52270322, 0.52270322, 0.52270322, 0.52270322,\n",
       "       0.52270322, 0.52270322, 0.52270322, 0.52270322, 0.52270322,\n",
       "       0.52270322, 0.52270322, 0.52270322, 0.52270322, 0.52270322,\n",
       "       0.52270322, 0.52270322, 0.52270322, 0.52270322, 0.52270322,\n",
       "       0.52270322, 0.52270322, 0.52270322, 0.52270322, 0.52270322,\n",
       "       0.52270322, 0.52270322, 0.52270322, 0.52270322, 0.52270322,\n",
       "       0.52270321, 0.52270311, 0.52270268, 0.5227012 , 0.52269723,\n",
       "       0.52268712, 0.52265686, 0.5225521 , 0.52212838, 0.52039894,\n",
       "       0.51541784, 0.50627747, 0.49039437, 0.46541503, 0.44002129,\n",
       "       0.42454941, 0.42336289, 0.43076686, 0.44425165, 0.46555469,\n",
       "       0.48922865, 0.50526828, 0.5138072 , 0.51797829, 0.51964215,\n",
       "       0.52042092, 0.52088693, 0.52115468, 0.52128884, 0.52131452,\n",
       "       0.52116916, 0.52075102, 0.52014494, 0.51939056, 0.51878161,\n",
       "       0.51916815, 0.51987916, 0.52035056, 0.52056913, 0.52045433,\n",
       "       0.5199099 , 0.51946106, 0.51976996, 0.52014182, 0.52028341,\n",
       "       0.52018308, 0.52012098, 0.51930496, 0.51380339, 0.48899402,\n",
       "       0.42672817, 0.37981071, 0.42071018, 0.46630094, 0.48499669,\n",
       "       0.47316359, 0.44153895, 0.39220747, 0.37685513, 0.39287128,\n",
       "       0.37705483, 0.33752823, 0.35387471, 0.44281963, 0.47752376,\n",
       "       0.48645907, 0.47284924, 0.43045927, 0.36034829, 0.33558877,\n",
       "       0.35369912, 0.3551435 , 0.38241543, 0.44676478, 0.50428511,\n",
       "       0.52020329, 0.52236143, 0.52249387, 0.52217758, 0.52041932,\n",
       "       0.51432686, 0.50318634, 0.48793453, 0.49190988, 0.51705129,\n",
       "       0.52247189, 0.52270178, 0.52270344, 0.52270327, 0.52270325,\n",
       "       0.52270324, 0.52270323, 0.52270323, 0.52270324, 0.52270326,\n",
       "       0.52270324, 0.52270322, 0.52270322, 0.52270322, 0.52270322,\n",
       "       0.52270322, 0.52270322, 0.52270322, 0.52270322, 0.52270322,\n",
       "       0.52270322, 0.52270322, 0.52270322, 0.52270322, 0.52270322,\n",
       "       0.52270322, 0.52270322, 0.52270322, 0.52270322, 0.52270322,\n",
       "       0.52270322, 0.52270322, 0.52270322, 0.52270322, 0.52270322,\n",
       "       0.52270322, 0.52270322, 0.52270322, 0.52270322, 0.52270322,\n",
       "       0.52270322, 0.52270322, 0.52270322, 0.52270322, 0.52270322,\n",
       "       0.52270322, 0.52270322, 0.52270322, 0.52270322, 0.52270322,\n",
       "       0.52270322, 0.52270322, 0.52270322, 0.52270322, 0.52270322,\n",
       "       0.52270322, 0.52270322, 0.52270322, 0.52270322, 0.52270322,\n",
       "       0.52270322, 0.52270322, 0.52270322, 0.52270322, 0.52270322,\n",
       "       0.52270322, 0.52270322, 0.52270322, 0.52270322, 0.52270322,\n",
       "       0.52270322, 0.52270322, 0.52270322, 0.52270322, 0.52270322,\n",
       "       0.52270322, 0.52270322, 0.52270322, 0.52270322, 0.52270322,\n",
       "       0.52270322, 0.52270322, 0.52270322, 0.52270322, 0.52270322,\n",
       "       0.52270322, 0.52270322, 0.52270322, 0.52270322, 0.52270322,\n",
       "       0.52270322, 0.52270322, 0.52270322, 0.52270322, 0.52270322,\n",
       "       0.52270322, 0.52270322, 0.52270322, 0.52270322, 0.52270322,\n",
       "       0.52270322, 0.52270322, 0.52270322, 0.52270322, 0.52270322,\n",
       "       0.52270322, 0.52270322, 0.52270322, 0.52270322, 0.52270322,\n",
       "       0.52270322, 0.52270322, 0.52270322, 0.52270322, 0.52270322,\n",
       "       0.52270322, 0.52270322, 0.52270322, 0.52270322, 0.52270322,\n",
       "       0.52270322, 0.52270324, 0.52270332, 0.52270347, 0.52270369,\n",
       "       0.52270431, 0.52270675, 0.52271353, 0.52272655, 0.52274132,\n",
       "       0.52273932, 0.52273185, 0.52272865, 0.52272665, 0.52272375,\n",
       "       0.52272107, 0.5227206 , 0.52272229, 0.52272491, 0.52273009,\n",
       "       0.5227381 , 0.52274949, 0.52276315, 0.52277947, 0.52279887,\n",
       "       0.5228161 , 0.52280602, 0.52280051, 0.52284777, 0.52293764,\n",
       "       0.52307725, 0.52330202, 0.5236368 , 0.52412692, 0.52467165,\n",
       "       0.52522026, 0.52645114, 0.52986944, 0.53491617, 0.53633404,\n",
       "       0.53609537, 0.5396212 , 0.54331688, 0.5422568 , 0.53765991,\n",
       "       0.53141179, 0.52667831, 0.52480872, 0.52454577, 0.52412921,\n",
       "       0.52314467, 0.52281899, 0.52279724, 0.5228152 , 0.52277233,\n",
       "       0.52272475, 0.52270838, 0.52270431, 0.52270342, 0.52270326,\n",
       "       0.52270323, 0.52270322, 0.52270322, 0.52270322, 0.52270322,\n",
       "       0.52270322, 0.52270322, 0.52270322, 0.52270322, 0.52270322,\n",
       "       0.52270322, 0.52270322, 0.52270322, 0.52270322, 0.52270322,\n",
       "       0.52270322, 0.52270322, 0.52270322, 0.52270322, 0.52270322,\n",
       "       0.52270322, 0.52270322, 0.52270322, 0.52270322, 0.52270322,\n",
       "       0.52270322, 0.52270322, 0.52270322, 0.52270322, 0.52270322,\n",
       "       0.52270322, 0.52270322, 0.52270322, 0.52270322, 0.52270322,\n",
       "       0.52270322, 0.52270322, 0.52270322, 0.52270322, 0.52270322,\n",
       "       0.52270322, 0.52270322, 0.52270322, 0.52270322, 0.52270322,\n",
       "       0.52270322, 0.52270322, 0.52270322, 0.52270322, 0.52270322,\n",
       "       0.52270322, 0.52270322, 0.52270322, 0.52270322, 0.52270322,\n",
       "       0.52270322, 0.52270322, 0.52270322, 0.52270322, 0.52270322])"
      ]
     },
     "execution_count": 40,
     "metadata": {},
     "output_type": "execute_result"
    }
   ],
   "source": [
    "y_svr"
   ]
  },
  {
   "cell_type": "code",
   "execution_count": null,
   "metadata": {
    "collapsed": true
   },
   "outputs": [],
   "source": []
  }
 ],
 "metadata": {
  "kernelspec": {
   "display_name": "Python 3",
   "language": "python",
   "name": "python3"
  },
  "language_info": {
   "codemirror_mode": {
    "name": "ipython",
    "version": 3
   },
   "file_extension": ".py",
   "mimetype": "text/x-python",
   "name": "python",
   "nbconvert_exporter": "python",
   "pygments_lexer": "ipython3",
   "version": "3.6.3"
  }
 },
 "nbformat": 4,
 "nbformat_minor": 2
}
