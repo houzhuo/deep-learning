{
 "cells": [
  {
   "cell_type": "code",
   "execution_count": 15,
   "metadata": {},
   "outputs": [],
   "source": [
    "from Package.EyeTracker import EyeTracker\n",
    "from Package import imutils\n",
    "import argparse\n",
    "import cv2\n",
    "\n",
    "\n",
    "\n",
    "et = EyeTracker(\"C:/Users/lll/Documents/hz/conda/Eye_detection/cascades/haarcascade_frontalface_default.xml\"\n",
    "               ,\"C:/Users/lll/Documents/hz/conda/Eye_detection/cascades/haarcascade_eye.xml\")\n",
    "\n",
    "camera = cv2.VideoCapture(\"C:/Users/lll/Documents/hz/conda/images/video.mp4\")\n",
    "while True:\n",
    "    (grabbed, frame) = camera.read()\n",
    "\n",
    "    #if args.get(\"video\") and not grabbed:\n",
    "    if not grabbed:\n",
    "        break\n",
    "\n",
    "    frame = imutils.resize(frame, width = 1200)\n",
    "    gray = cv2.cvtColor(frame, cv2.COLOR_BGR2GRAY)\n",
    "    rects = et.track(gray)\n",
    "    for rect in rects:\n",
    "        cv2.rectangle(frame, (rect[0], rect[1]),(rect[2], rect[3]), (0, 255, 0), 2)\n",
    "    cv2.imshow(\"Tracking\", frame)\n",
    "\n",
    "    if cv2.waitKey(1) & 0xFF == ord(\"q\"):\n",
    "        break\n",
    "camera.release()\n",
    "cv2.destroyAllWindows()"
   ]
  },
  {
   "cell_type": "code",
   "execution_count": null,
   "metadata": {},
   "outputs": [],
   "source": []
  }
 ],
 "metadata": {
  "kernelspec": {
   "display_name": "Python 3",
   "language": "python",
   "name": "python3"
  },
  "language_info": {
   "codemirror_mode": {
    "name": "ipython",
    "version": 3
   },
   "file_extension": ".py",
   "mimetype": "text/x-python",
   "name": "python",
   "nbconvert_exporter": "python",
   "pygments_lexer": "ipython3",
   "version": "3.6.4"
  }
 },
 "nbformat": 4,
 "nbformat_minor": 2
}
