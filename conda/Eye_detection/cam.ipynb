{
 "cells": [
  {
   "cell_type": "code",
   "execution_count": 35,
   "metadata": {},
   "outputs": [
    {
     "ename": "KeyboardInterrupt",
     "evalue": "",
     "output_type": "error",
     "traceback": [
      "\u001b[1;31m---------------------------------------------------------------------------\u001b[0m",
      "\u001b[1;31mKeyboardInterrupt\u001b[0m                         Traceback (most recent call last)",
      "\u001b[1;32m<ipython-input-35-043a43925a5d>\u001b[0m in \u001b[0;36m<module>\u001b[1;34m()\u001b[0m\n\u001b[0;32m     22\u001b[0m \u001b[1;33m\u001b[0m\u001b[0m\n\u001b[0;32m     23\u001b[0m     faceRects = fd.detect(gray, scaleFactor = 1.05,\n\u001b[1;32m---> 24\u001b[1;33m                             minNeighbors = 3, minSize = (10, 10))\n\u001b[0m\u001b[0;32m     25\u001b[0m     \u001b[0mframeClone\u001b[0m \u001b[1;33m=\u001b[0m \u001b[0mframe\u001b[0m\u001b[1;33m.\u001b[0m\u001b[0mcopy\u001b[0m\u001b[1;33m(\u001b[0m\u001b[1;33m)\u001b[0m\u001b[1;33m\u001b[0m\u001b[0m\n\u001b[0;32m     26\u001b[0m \u001b[1;33m\u001b[0m\u001b[0m\n",
      "\u001b[1;32m~\\Documents\\hz\\conda\\Eye_detection\\Package\\FaceDetector.py\u001b[0m in \u001b[0;36mdetect\u001b[1;34m(self, image, scaleFactor, minNeighbors, minSize)\u001b[0m\n\u001b[0;32m     11\u001b[0m \t\trects = self.faceCascade.detectMultiScale(image,\n\u001b[0;32m     12\u001b[0m                                 \u001b[0mscaleFactor\u001b[0m \u001b[1;33m=\u001b[0m \u001b[0mscaleFactor\u001b[0m\u001b[1;33m,\u001b[0m \u001b[0mminNeighbors\u001b[0m \u001b[1;33m=\u001b[0m \u001b[0mminNeighbors\u001b[0m\u001b[1;33m,\u001b[0m\u001b[1;33m\u001b[0m\u001b[0m\n\u001b[1;32m---> 13\u001b[1;33m \t\t\t\tminSize = minSize, flags = cv2.CASCADE_SCALE_IMAGE)\n\u001b[0m\u001b[0;32m     14\u001b[0m                 \u001b[1;31m#returns rects, a list\u001b[0m\u001b[1;33m\u001b[0m\u001b[1;33m\u001b[0m\u001b[0m\n\u001b[0;32m     15\u001b[0m                 \u001b[1;31m#of tuples containing the bounding boxes of the faces in the\u001b[0m\u001b[1;33m\u001b[0m\u001b[1;33m\u001b[0m\u001b[0m\n",
      "\u001b[1;31mKeyboardInterrupt\u001b[0m: "
     ]
    }
   ],
   "source": [
    "from Package.FaceDetector import FaceDetector\n",
    "from Package import imutils\n",
    "import argparse\n",
    "import cv2\n",
    "\n",
    "\n",
    "\n",
    "fd = FaceDetector(\"C:/Users/lll/Documents/hz/conda/Eye_detection/cascades/haarcascade_frontalface_default.xml\")\n",
    "\n",
    "camera = cv2.VideoCapture(\"C:/Users/lll/Documents/hz/conda/images/video.mp4\")\n",
    "\n",
    "\n",
    "while True:\n",
    "    (grabbed, frame) = camera.read()\n",
    "\n",
    "    #if args.get(\"video\") and not grabbed:\n",
    "    if not grabbed:\n",
    "        break\n",
    "\n",
    "    frame = imutils.resize(frame, width = 900)\n",
    "    gray = cv2.cvtColor(frame, cv2.COLOR_BGR2GRAY)\n",
    "    \n",
    "    faceRects = fd.detect(gray, scaleFactor = 1.05,\n",
    "                            minNeighbors = 3, minSize = (10, 10))\n",
    "    frameClone = frame.copy()\n",
    "\n",
    "    for (fX, fY, fW, fH) in faceRects:\n",
    "        cv2.rectangle(frameClone, (fX, fY), (fX + fW, fY + fH),\n",
    "                                (0, 255, 0), 2)\n",
    "\n",
    "    cv2.imshow(\"Face\", frameClone)\n",
    "\n",
    "    if cv2.waitKey(1) & 0xFF == ord(\"q\"):\n",
    "        break\n",
    "\n",
    "camera.release()\n",
    "cv2.destroyAllWindows()"
   ]
  },
  {
   "cell_type": "code",
   "execution_count": null,
   "metadata": {},
   "outputs": [],
   "source": []
  }
 ],
 "metadata": {
  "kernelspec": {
   "display_name": "Python 3",
   "language": "python",
   "name": "python3"
  },
  "language_info": {
   "codemirror_mode": {
    "name": "ipython",
    "version": 3
   },
   "file_extension": ".py",
   "mimetype": "text/x-python",
   "name": "python",
   "nbconvert_exporter": "python",
   "pygments_lexer": "ipython3",
   "version": "3.6.4"
  }
 },
 "nbformat": 4,
 "nbformat_minor": 2
}
