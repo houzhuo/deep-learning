{
 "cells": [
  {
   "cell_type": "code",
   "execution_count": null,
   "metadata": {},
   "outputs": [],
   "source": [
    "from pyimagesearch.facedetector import FaceDetector\n",
    "from pyimagesearch import imutils\n",
    "import argparse\n",
    "import cv2\n",
    "\n",
    "ap = argparse.ArgumentParser()\n",
    "ap.add_argument(\"-f\", \"--face\", required = True,\n",
    "help = \"path to where the face cascade resides\")\n",
    "ap.add_argument(\"-v\", \"--video\",\n",
    "help = \"path to the (optional) video file\")\n",
    "args = vars(ap.parse_args())\n",
    "\n",
    "fd = FaceDetector(args[\"face\"])\n",
    "\n",
    "if not args.get(\"video\", False):\n",
    "    camera = cv2.VideoCapture(0)\n",
    "\n",
    "else:\n",
    "    camera = cv2.VideoCapture(args[\"video\"])\n",
    "\n",
    "while True:\n",
    "    (grabbed, frame) = camera.read()\n",
    "\n",
    "    if args.get(\"video\") and not grabbed:\n",
    "        break\n",
    "\n",
    "    frame = imutils.resize(frame, width = 300)\n",
    "    gray = cv2.cvtColor(frame, cv2.COLOR_BGR2GRAY)\n",
    "    \n",
    "    faceRects = fd.detect(gray, scaleFactor = 1.1,\n",
    "                            minNeighbors = 5, minSize = (30, 30))\n",
    "    frameClone = frame.copy()\n",
    "\n",
    "    for (fX, fY, fW, fH) in faceRects:\n",
    "        cv2.rectangle(frameClone, (fX, fY), (fX + fW, fY + fH),\n",
    "                                (0, 255, 0), 2)\n",
    "\n",
    "    cv2.imshow(\"Face\", frameClone)\n",
    "\n",
    "    if cv2.waitKey(1) & 0xFF == ord(\"q\"):\n",
    "        break\n",
    "\n",
    "    camera.release()\n",
    "    cv2.destroyAllWindows()"
   ]
  }
 ],
 "metadata": {
  "kernelspec": {
   "display_name": "Python 3",
   "language": "python",
   "name": "python3"
  },
  "language_info": {
   "codemirror_mode": {
    "name": "ipython",
    "version": 3
   },
   "file_extension": ".py",
   "mimetype": "text/x-python",
   "name": "python",
   "nbconvert_exporter": "python",
   "pygments_lexer": "ipython3",
   "version": "3.6.4"
  }
 },
 "nbformat": 4,
 "nbformat_minor": 2
}
