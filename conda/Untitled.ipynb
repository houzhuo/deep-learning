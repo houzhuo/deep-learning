{
 "cells": [
  {
   "cell_type": "code",
   "execution_count": 1,
   "metadata": {},
   "outputs": [
    {
     "name": "stdout",
     "output_type": "stream",
     "text": [
      "width:500pixels\n",
      "height: 500 pixels\n",
      "channels: 3\n"
     ]
    },
    {
     "data": {
      "text/plain": [
       "True"
      ]
     },
     "execution_count": 1,
     "metadata": {},
     "output_type": "execute_result"
    }
   ],
   "source": [
    "from __future__ import print_function\n",
    "import argparse\n",
    "import cv2\n",
    "\n",
    "# ap = argparse.ArgumentParser()\n",
    "# ap.add_argument(\"-i\", \"--image\", required = True,\n",
    "# help = \"Path to the image\")\n",
    "# args = vars(ap.parse_args())\n",
    "\n",
    "# image = cv2.imread(args[\"image\"])\n",
    "image = cv2.imread(\"C:/Users/lll/Documents/hz/conda/images/obama.png\")\n",
    "print(\"width:{}pixels\".format(image.shape[1]))\n",
    "print(\"height: {} pixels\".format(image.shape[0]))\n",
    "print(\"channels: {}\".format(image.shape[2]))\n",
    "\n",
    "cv2.imshow(\"Image\", image)\n",
    "cv2.waitKey(0)\n",
    "\n",
    "cv2.imwrite(\"newimage.jpg\", image)"
   ]
  },
  {
   "cell_type": "code",
   "execution_count": 4,
   "metadata": {},
   "outputs": [
    {
     "data": {
      "text/plain": [
       "-1"
      ]
     },
     "execution_count": 4,
     "metadata": {},
     "output_type": "execute_result"
    }
   ],
   "source": [
    "import numpy as np\n",
    "import argparse\n",
    "import cv2\n",
    "\n",
    "image = cv2.imread(\"C:/Users/lll/Documents/hz/conda/images/img.png\")\n",
    "\n",
    "cv2.imshow(\"Image\",image)\n",
    "image = cv2.cvtColor(image, cv2.COLOR_BGR2GRAY)\n",
    "blurred = cv2.GaussianBlur(image, (5, 5), 0)\n",
    "\n",
    "(T,thresh) = cv2.threshold(blurred,155,255,cv2.THRESH_BINARY)#greater than 155 is set to 255. Any value that is less than\n",
    "#55 is set to zero.\n",
    "cv2.imshow(\"Threshold Binary\",thresh)\n",
    "\n",
    "(T, threshInv) = cv2.threshold(blurred,155,225,cv2.THRESH_BINARY_INV)\n",
    "cv2.imshow(\"Threshold Binary Inverse\", threshInv)\n",
    "\n",
    "cv2.imshow(\"Coins\", cv2.bitwise_and(image, image, mask = threshInv))\n",
    "cv2.waitKey(0)\n",
    "# On Line 20 we perform masking by using the cv2.bitwise_\n",
    "# and function. We supply our original coin image as the first\n",
    "# two arguments, and then our inverted thresholded image as\n",
    "# our mask. Remember, a mask only considers pixels in the\n",
    "# original image where the mask is greater than zero. Since\n",
    "# our inverted thresholded image on Line 17 does a good job\n",
    "# at approximating the areas the coins are contained in, we\n",
    "# can use this inverted thresholded image as our mask."
   ]
  },
  {
   "cell_type": "code",
   "execution_count": 6,
   "metadata": {},
   "outputs": [
    {
     "data": {
      "text/plain": [
       "-1"
      ]
     },
     "execution_count": 6,
     "metadata": {},
     "output_type": "execute_result"
    }
   ],
   "source": [
    "#adaptive_thresholding.py\n",
    "import numpy as np\n",
    "import argparse\n",
    "import cv2\n",
    "\n",
    "\n",
    "image = cv2.imread(\"C:/Users/lll/Documents/hz/conda/images/coin.jpg\")\n",
    "image = cv2.cvtColor(image, cv2.COLOR_BGR2GRAY)\n",
    "blurred = cv2.GaussianBlur(image, (5, 5), 0)\n",
    "cv2.imshow(\"Image\", image)\n",
    "\n",
    "thresh = cv2.adaptiveThreshold(blurred, 255,\n",
    "cv2.ADAPTIVE_THRESH_MEAN_C, cv2.THRESH_BINARY_INV, 11, 4)\n",
    "cv2.imshow(\"Mean Thresh\", thresh)\n",
    "#use cv2.THRESH_BINAR Y_INV to indicate that any pixel intensity greater than T in\n",
    "#the neighborhood should be set to 255, otherwise it should be set to 0.\n",
    "\n",
    "thresh = cv2.adaptiveThreshold(blurred, 255,\n",
    "cv2.ADAPTIVE_THRESH_GAUSSIAN_C, cv2.THRESH_BINARY_INV, 15, 3)\n",
    "cv2.imshow(\"Gaussian Thresh\", thresh)\n",
    "cv2.waitKey(0)\n"
   ]
  },
  {
   "cell_type": "code",
   "execution_count": 7,
   "metadata": {},
   "outputs": [
    {
     "name": "stdout",
     "output_type": "stream",
     "text": [
      "Otsu’s threshold: 85\n",
      "Riddler-Calvard: 85.89966110303105\n"
     ]
    },
    {
     "data": {
      "text/plain": [
       "-1"
      ]
     },
     "execution_count": 7,
     "metadata": {},
     "output_type": "execute_result"
    }
   ],
   "source": [
    "# Otsu’s method \n",
    "#assumes there are two peaks in the grayscale histogram of the image.\n",
    "#It then tries to find an optimal value to separate these two peaks – thus our value of T\n",
    "from __future__ import print_function\n",
    "import numpy as np\n",
    "import argparse\n",
    "import mahotas\n",
    "import cv2\n",
    "\n",
    "\n",
    "image = cv2.imread(\"C:/Users/lll/Documents/hz/conda/images/coin.jpg\")\n",
    "image = cv2.cvtColor(image, cv2.COLOR_BGR2GRAY)\n",
    "blurred = cv2.GaussianBlur(image, (5, 5), 0)\n",
    "\n",
    "cv2.imshow(\"Image\", image)\n",
    "T = mahotas.thresholding.otsu(blurred)\n",
    "print(\"Otsu’s threshold: {}\".format(T))\n",
    "thresh = image.copy()\n",
    "thresh[thresh > T] = 255\n",
    "thresh[thresh < 255] = 0\n",
    "thresh = cv2.bitwise_not(thresh)\n",
    "cv2.imshow(\"Otsu\", thresh)\n",
    "\n",
    "T = mahotas.thresholding.rc(blurred)\n",
    "print(\"Riddler-Calvard: {}\".format(T))\n",
    "thresh = image.copy()\n",
    "thresh[thresh > T] = 255\n",
    "thresh[thresh < 255] = 0\n",
    "thresh = cv2.bitwise_not(thresh)\n",
    "cv2.imshow(\"Riddler-Calvard\", thresh)\n",
    "cv2.waitKey(0)\n"
   ]
  },
  {
   "cell_type": "code",
   "execution_count": 8,
   "metadata": {},
   "outputs": [
    {
     "data": {
      "text/plain": [
       "-1"
      ]
     },
     "execution_count": 8,
     "metadata": {},
     "output_type": "execute_result"
    }
   ],
   "source": [
    "#sobel_and_laplacian.py\n",
    "import numpy as np\n",
    "import argparse\n",
    "import cv2\n",
    "\n",
    "\n",
    "image = cv2.imread(\"C:/Users/lll/Documents/hz/conda/images/coin.jpg\")\n",
    "image = cv2.cvtColor(image, cv2.COLOR_BGR2GRAY)\n",
    "cv2.imshow(\"Original\", image)\n",
    "lap = cv2.Laplacian(image, cv2.CV_64F)#t if you don’t use a floating\n",
    "#point data type when computing the gradient magnitude\n",
    "#image, you will miss edges, specifically the white-to-black transitions\n",
    "lap = np.uint8(np.absolute(lap))# convert back\n",
    "cv2.imshow(\"Laplacian\", lap)\n",
    "cv2.waitKey(0)\n",
    "\n",
    "sobelX = cv2.Sobel(image, cv2.CV_64F, 1, 0)\n",
    "sobelY = cv2.Sobel(image, cv2.CV_64F, 0, 1)\n",
    "\n",
    "sobelX = np.uint8(np.absolute(sobelX))\n",
    "sobelY = np.uint8(np.absolute(sobelY))\n",
    "\n",
    "sobelCombined = cv2.bitwise_or(sobelX, sobelY)#combine the gradient images in both the x\n",
    "# and y direction,\n",
    "\n",
    "cv2.imshow(\"Sobel X\", sobelX)\n",
    "cv2.imshow(\"Sobel Y\", sobelY)\n",
    "cv2.imshow(\"Sobel Combined\", sobelCombined)\n",
    "cv2.waitKey(0)"
   ]
  },
  {
   "cell_type": "code",
   "execution_count": 9,
   "metadata": {},
   "outputs": [
    {
     "data": {
      "text/plain": [
       "-1"
      ]
     },
     "execution_count": 9,
     "metadata": {},
     "output_type": "execute_result"
    }
   ],
   "source": [
    "# canny.py\n",
    "import numpy as np\n",
    "import argparse\n",
    "import cv2\n",
    "\n",
    "image = cv2.imread(\"C:/Users/lll/Documents/hz/conda/images/coin.jpg\")\n",
    "image = cv2.cvtColor(image, cv2.COLOR_BGR2GRAY)\n",
    "image = cv2.GaussianBlur(image, (5, 5), 0)\n",
    "cv2.imshow(\"Blurred\", image)\n",
    "\n",
    "canny = cv2.Canny(image, 30, 150)\n",
    "cv2.imshow(\"Canny\", canny)\n",
    "cv2.waitKey(0)"
   ]
  },
  {
   "cell_type": "code",
   "execution_count": 10,
   "metadata": {},
   "outputs": [
    {
     "name": "stdout",
     "output_type": "stream",
     "text": [
      "I count 31 coins in this image\n"
     ]
    },
    {
     "data": {
      "text/plain": [
       "-1"
      ]
     },
     "execution_count": 10,
     "metadata": {},
     "output_type": "execute_result"
    }
   ],
   "source": [
    "#counting_coins.py\n",
    "from __future__ import print_function\n",
    "import numpy as np\n",
    "import argparse\n",
    "import cv2\n",
    "\n",
    "image = cv2.imread(\"C:/Users/lll/Documents/hz/conda/images/coin.jpg\")\n",
    "gray = cv2.cvtColor(image, cv2.COLOR_BGR2GRAY)\n",
    "blurred = cv2.GaussianBlur(gray, (11, 11), 0)\n",
    "cv2.imshow(\"Image\", image)\n",
    "\n",
    "edged = cv2.Canny(blurred, 30, 150)\n",
    "cv2.imshow(\"Edges\", edged)\n",
    "\n",
    "(_, cnts, _) = cv2.findContours(edged.copy(), cv2.RETR_EXTERNAL,\n",
    "cv2.CHAIN_APPROX_SIMPLE)\n",
    "#This method returns\n",
    "#a 3-tuple of: (1) our image after applying contour detection \n",
    "#(which is modified and essentially destroyed), (2) the\n",
    "#contours themselves, cnts, and (3) the hierarchy of the contours \n",
    "print(\"I count {} coins in this image\".format(len(cnts)))\n",
    "\n",
    "coins = image.copy()\n",
    "cv2.drawContours(coins, cnts, -1, (0, 255, 0), 2)\n",
    "cv2.imshow(\"Coins\", coins)\n",
    "cv2.waitKey(0)\n"
   ]
  },
  {
   "cell_type": "code",
   "execution_count": 1,
   "metadata": {},
   "outputs": [
    {
     "name": "stdout",
     "output_type": "stream",
     "text": [
      "['', 'C:\\\\Users\\\\lll\\\\AppData\\\\Local\\\\conda\\\\conda\\\\envs\\\\tensorflow_gpu\\\\python36.zip', 'C:\\\\Users\\\\lll\\\\AppData\\\\Local\\\\conda\\\\conda\\\\envs\\\\tensorflow_gpu\\\\DLLs', 'C:\\\\Users\\\\lll\\\\AppData\\\\Local\\\\conda\\\\conda\\\\envs\\\\tensorflow_gpu\\\\lib', 'C:\\\\Users\\\\lll\\\\AppData\\\\Local\\\\conda\\\\conda\\\\envs\\\\tensorflow_gpu', 'C:\\\\Users\\\\lll\\\\AppData\\\\Roaming\\\\Python\\\\Python36\\\\site-packages', 'C:\\\\Users\\\\lll\\\\AppData\\\\Local\\\\conda\\\\conda\\\\envs\\\\tensorflow_gpu\\\\lib\\\\site-packages', 'C:\\\\Users\\\\lll\\\\AppData\\\\Local\\\\conda\\\\conda\\\\envs\\\\tensorflow_gpu\\\\lib\\\\site-packages\\\\mechanize-0.4.0-py3.6.egg', 'C:\\\\Users\\\\lll\\\\AppData\\\\Local\\\\conda\\\\conda\\\\envs\\\\tensorflow_gpu\\\\lib\\\\site-packages\\\\html5lib-1.0.1-py3.6.egg', 'C:\\\\Users\\\\lll\\\\AppData\\\\Local\\\\conda\\\\conda\\\\envs\\\\tensorflow_gpu\\\\lib\\\\site-packages\\\\win32', 'C:\\\\Users\\\\lll\\\\AppData\\\\Local\\\\conda\\\\conda\\\\envs\\\\tensorflow_gpu\\\\lib\\\\site-packages\\\\win32\\\\lib', 'C:\\\\Users\\\\lll\\\\AppData\\\\Local\\\\conda\\\\conda\\\\envs\\\\tensorflow_gpu\\\\lib\\\\site-packages\\\\Pythonwin', 'C:\\\\Users\\\\lll\\\\AppData\\\\Local\\\\conda\\\\conda\\\\envs\\\\tensorflow_gpu\\\\lib\\\\site-packages\\\\IPython\\\\extensions', 'C:\\\\Users\\\\lll\\\\.ipython']\n"
     ]
    }
   ],
   "source": [
    "import sys\n",
    "print(sys.path)"
   ]
  },
  {
   "cell_type": "code",
   "execution_count": null,
   "metadata": {},
   "outputs": [],
   "source": []
  }
 ],
 "metadata": {
  "kernelspec": {
   "display_name": "Python 3",
   "language": "python",
   "name": "python3"
  },
  "language_info": {
   "codemirror_mode": {
    "name": "ipython",
    "version": 3
   },
   "file_extension": ".py",
   "mimetype": "text/x-python",
   "name": "python",
   "nbconvert_exporter": "python",
   "pygments_lexer": "ipython3",
   "version": "3.6.4"
  }
 },
 "nbformat": 4,
 "nbformat_minor": 2
}
