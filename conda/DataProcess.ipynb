{
 "cells": [
  {
   "cell_type": "code",
   "execution_count": 3,
   "metadata": {},
   "outputs": [],
   "source": [
    " import csv\n",
    "# for line in open(\"C:/Users/lll/Documents/hz/conda/Eye_detection/head_example_Take_001.txt\"):\n",
    "#     for num in line:\n",
    "#         print(num)\n",
    "file=open('C:/Users/lll/Documents/hz/conda/Eye_detection/data/yuya_leftKnee.txt','r')\n",
    "with open('C:/Users/lll/Documents/hz/conda/Eye_detection/data/yuya_leftKnee_transfer.csv', mode='w',newline ='') as csvfile:\n",
    "    fieldnames = ['LeftShoulder_xp', 'LeftShoulder_yp', 'LeftShoulder_zp','LeftShoulder_zr', 'LeftShoulder_xr', 'LeftShoulder_yr']\n",
    "    \n",
    "    writer = csv.DictWriter(csvfile, fieldnames=fieldnames)\n",
    "    writer.writeheader()\n",
    "    result=list()\n",
    "    for c in file.readlines():\n",
    "        c_array=c.split(' ')\n",
    "#       result.append(c_array[0])\n",
    "        #print(c_array[0])\n",
    "        writer.writerow({'LeftShoulder_xp': c_array[0], 'LeftShoulder_yp':c_array[1], 'LeftShoulder_zp': c_array[2],'LeftShoulder_zr': c_array[3], 'LeftShoulder_xr':c_array[4], 'LeftShoulder_yr': c_array[5]\n",
    "                        })\n",
    "#print(result)"
   ]
  },
  {
   "cell_type": "code",
   "execution_count": null,
   "metadata": {},
   "outputs": [],
   "source": []
  },
  {
   "cell_type": "code",
   "execution_count": null,
   "metadata": {},
   "outputs": [],
   "source": []
  }
 ],
 "metadata": {
  "kernelspec": {
   "display_name": "Python 3",
   "language": "python",
   "name": "python3"
  },
  "language_info": {
   "codemirror_mode": {
    "name": "ipython",
    "version": 3
   },
   "file_extension": ".py",
   "mimetype": "text/x-python",
   "name": "python",
   "nbconvert_exporter": "python",
   "pygments_lexer": "ipython3",
   "version": "3.6.4"
  }
 },
 "nbformat": 4,
 "nbformat_minor": 2
}
