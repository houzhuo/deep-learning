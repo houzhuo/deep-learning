{
 "cells": [
  {
   "cell_type": "code",
   "execution_count": 41,
   "metadata": {
    "collapsed": true
   },
   "outputs": [],
   "source": [
    "# import the necessary packages\n",
    "from keras.models import Sequential\n",
    "from keras.layers.convolutional import Conv2D\n",
    "from keras.layers.convolutional import MaxPooling2D\n",
    "from keras.layers.core import Activation\n",
    "from keras.layers.core import Flatten\n",
    "from keras.layers.core import Dense\n",
    "from keras import backend as K\n",
    "\n",
    "class LeNet:\n",
    "\t@staticmethod\n",
    "\tdef build(width, height, depth, classes):\n",
    "\t\t# initialize the model\n",
    "\t\tmodel = Sequential()\n",
    "\t\tinputShape = (height, width, depth)\n",
    "\n",
    "\t\t# if we are using \"channels first\", update the input shape\n",
    "\t\tif K.image_data_format() == \"channels_first\":\n",
    "\t\t\tinputShape = (depth, height, width)\n",
    "\n",
    "\t\t# first set of CONV => RELU => POOL layers\n",
    "\t\tmodel.add(Conv2D(20, (5, 5), padding=\"same\",\n",
    "\t\t\tinput_shape=inputShape))\n",
    "\t\tmodel.add(Activation(\"relu\"))\n",
    "\t\tmodel.add(MaxPooling2D(pool_size=(2, 2), strides=(2, 2)))\n",
    "\n",
    "\t\t# second set of CONV => RELU => POOL layers\n",
    "\t\tmodel.add(Conv2D(50, (5, 5), padding=\"same\"))\n",
    "\t\tmodel.add(Activation(\"relu\"))\n",
    "\t\tmodel.add(MaxPooling2D(pool_size=(2, 2), strides=(2, 2)))\n",
    "\n",
    "\t\t# first (and only) set of FC => RELU layers\n",
    "\t\tmodel.add(Flatten())\n",
    "\t\tmodel.add(Dense(500))\n",
    "\t\tmodel.add(Activation(\"relu\"))\n",
    "\n",
    "\t\t# softmax classifier\n",
    "\t\tmodel.add(Dense(classes))\n",
    "\t\tmodel.add(Activation(\"softmax\"))\n",
    "\n",
    "\t\t# return the constructed network architecture\n",
    "\t\treturn model"
   ]
  },
  {
   "cell_type": "code",
   "execution_count": 42,
   "metadata": {
    "collapsed": true
   },
   "outputs": [],
   "source": [
    "import matplotlib\n",
    "matplotlib.use(\"Agg\")\n",
    "\n",
    "# import the necessary packages\n",
    "from keras.preprocessing.image import ImageDataGenerator\n",
    "from keras.optimizers import Adam\n",
    "from sklearn.model_selection import train_test_split\n",
    "from keras.preprocessing.image import img_to_array\n",
    "from keras.utils import to_categorical\n",
    "import numpy as np\n",
    "import argparse\n",
    "import random\n",
    "import os\n",
    "from imutils import paths\n",
    "import cv2\n"
   ]
  },
  {
   "cell_type": "code",
   "execution_count": null,
   "metadata": {
    "collapsed": true
   },
   "outputs": [],
   "source": []
  },
  {
   "cell_type": "code",
   "execution_count": 43,
   "metadata": {},
   "outputs": [
    {
     "name": "stdout",
     "output_type": "stream",
     "text": [
      "[INFO] loading images...\n"
     ]
    }
   ],
   "source": [
    "# initialize the number of epochs to train for, initial learning rate,\n",
    "# and batch size\n",
    "EPOCHS = 25\n",
    "INIT_LR = 1e-3\n",
    "BS = 32\n",
    " \n",
    "# initialize the data and labels\n",
    "print(\"[INFO] loading images...\")\n",
    "data = []\n",
    "labels = []\n",
    "\n"
   ]
  },
  {
   "cell_type": "code",
   "execution_count": 44,
   "metadata": {
    "collapsed": true
   },
   "outputs": [],
   "source": [
    "rootdir = '/Users/houzhuo/Downloads/image-classification-keras/images/santa'\n",
    "#dataset = '/santa/'\n",
    "santa_list = os.listdir(rootdir) #列出文件夹下所有的目录与文件\n",
    "for i in range(0,len(santa_list)):\n",
    "    santa_list[i] = os.path.join(rootdir, santa_list[i])\n",
    "# grab the image paths and randomly shuffle them\n",
    "santa_imagePaths = sorted(santa_list)\n",
    "random.seed(42)\n",
    "random.shuffle(santa_imagePaths)\n",
    "    \n"
   ]
  },
  {
   "cell_type": "code",
   "execution_count": 45,
   "metadata": {
    "collapsed": true
   },
   "outputs": [],
   "source": [
    "# loop over the input images\n",
    "for imagePath in santa_imagePaths:\n",
    "    # load the image, pre-process it, and store it in the data list\n",
    "    #print(imagePath)\n",
    "    image = cv2.imread(imagePath)\n",
    "    image = cv2.resize(image, (28, 28))\n",
    "    image = img_to_array(image)\n",
    "    data.append(image)\n",
    "    labels.append(1)"
   ]
  },
  {
   "cell_type": "code",
   "execution_count": 46,
   "metadata": {
    "collapsed": true
   },
   "outputs": [],
   "source": [
    "rootdir = '/Users/houzhuo/Downloads/image-classification-keras/images/not_santa'\n",
    "#dataset = '/santa/'\n",
    "not_santa_list = os.listdir(rootdir) #列出文件夹下所有的目录与文件\n",
    "for i in range(0,len(not_santa_list)):\n",
    "    not_santa_list[i] = os.path.join(rootdir, not_santa_list[i])\n",
    "# grab the image paths and randomly shuffle them\n",
    "not_santa_imagePaths = sorted(not_santa_list)\n",
    "random.seed(42)\n",
    "random.shuffle(not_santa_imagePaths)\n",
    "# loop over the input images\n",
    "for imagePath in not_santa_imagePaths:\n",
    "    # load the image, pre-process it, and store it in the data list\n",
    "    #print(imagePath)\n",
    "    image = cv2.imread(imagePath)\n",
    "    image = cv2.resize(image, (28, 28))\n",
    "    image = img_to_array(image)\n",
    "    data.append(image)\n",
    "    labels.append(0)"
   ]
  },
  {
   "cell_type": "code",
   "execution_count": 47,
   "metadata": {
    "collapsed": true
   },
   "outputs": [],
   "source": [
    "# scale the raw pixel intensities to the range [0, 1]\n",
    "data = np.array(data, dtype=\"float\") / 255.0\n",
    "labels = np.array(labels)\n",
    " \n",
    "# partition the data into training and testing splits using 75% of\n",
    "# the data for training and the remaining 25% for testing\n",
    "(trainX, testX, trainY, testY) = train_test_split(data, labels, test_size=0.25, random_state=42)\n",
    " \n",
    "# convert the labels from integers to vectors\n",
    "trainY = to_categorical(trainY, num_classes=2)\n",
    "testY = to_categorical(testY, num_classes=2)"
   ]
  },
  {
   "cell_type": "code",
   "execution_count": 49,
   "metadata": {
    "collapsed": true
   },
   "outputs": [],
   "source": [
    "# construct the image generator for data augmentation\n",
    "aug = ImageDataGenerator(rotation_range=30, width_shift_range=0.1,\n",
    "    height_shift_range=0.1, shear_range=0.2, zoom_range=0.2,\n",
    "    horizontal_flip=True, fill_mode=\"nearest\")"
   ]
  },
  {
   "cell_type": "code",
   "execution_count": 64,
   "metadata": {},
   "outputs": [
    {
     "name": "stdout",
     "output_type": "stream",
     "text": [
      "[INFO] compiling model...\n",
      "[INFO] training network...\n",
      "Epoch 1/25\n",
      "21/21 [==============================] - 3s 141ms/step - loss: 0.7181 - acc: 0.5047 - val_loss: 0.6461 - val_acc: 0.5801\n",
      "Epoch 2/25\n",
      "21/21 [==============================] - 2s 110ms/step - loss: 0.5668 - acc: 0.6373 - val_loss: 0.4561 - val_acc: 0.7879\n",
      "Epoch 3/25\n",
      "21/21 [==============================] - 2s 99ms/step - loss: 0.3669 - acc: 0.8630 - val_loss: 0.2327 - val_acc: 0.9307\n",
      "Epoch 4/25\n",
      "21/21 [==============================] - 2s 110ms/step - loss: 0.2910 - acc: 0.8740 - val_loss: 0.1885 - val_acc: 0.9394\n",
      "Epoch 5/25\n",
      "21/21 [==============================] - 2s 97ms/step - loss: 0.3111 - acc: 0.8784 - val_loss: 0.1797 - val_acc: 0.9177\n",
      "Epoch 6/25\n",
      "21/21 [==============================] - 2s 87ms/step - loss: 0.2971 - acc: 0.8854 - val_loss: 0.4521 - val_acc: 0.8442\n",
      "Epoch 7/25\n",
      "21/21 [==============================] - 2s 105ms/step - loss: 0.2158 - acc: 0.9236 - val_loss: 0.1992 - val_acc: 0.9307\n",
      "Epoch 8/25\n",
      "21/21 [==============================] - 2s 96ms/step - loss: 0.1883 - acc: 0.9285 - val_loss: 0.3153 - val_acc: 0.9004\n",
      "Epoch 9/25\n",
      "21/21 [==============================] - 2s 91ms/step - loss: 0.1770 - acc: 0.9374 - val_loss: 0.2420 - val_acc: 0.9177\n",
      "Epoch 10/25\n",
      "21/21 [==============================] - 2s 87ms/step - loss: 0.1606 - acc: 0.9435 - val_loss: 0.2382 - val_acc: 0.9134\n",
      "Epoch 11/25\n",
      "21/21 [==============================] - 2s 110ms/step - loss: 0.1505 - acc: 0.9395 - val_loss: 0.3361 - val_acc: 0.8918\n",
      "Epoch 12/25\n",
      "21/21 [==============================] - 2s 101ms/step - loss: 0.1593 - acc: 0.9389 - val_loss: 0.3414 - val_acc: 0.8918\n",
      "Epoch 13/25\n",
      "21/21 [==============================] - 2s 96ms/step - loss: 0.1661 - acc: 0.9330 - val_loss: 0.2381 - val_acc: 0.9134\n",
      "Epoch 14/25\n",
      "21/21 [==============================] - 2s 115ms/step - loss: 0.1464 - acc: 0.9390 - val_loss: 0.2149 - val_acc: 0.9307\n",
      "Epoch 15/25\n",
      "21/21 [==============================] - 3s 123ms/step - loss: 0.1395 - acc: 0.9409 - val_loss: 0.1582 - val_acc: 0.9437\n",
      "Epoch 16/25\n",
      "21/21 [==============================] - 2s 95ms/step - loss: 0.1337 - acc: 0.9420 - val_loss: 0.2841 - val_acc: 0.9134\n",
      "Epoch 17/25\n",
      "21/21 [==============================] - 3s 149ms/step - loss: 0.1375 - acc: 0.9494 - val_loss: 0.3537 - val_acc: 0.9048\n",
      "Epoch 18/25\n",
      "21/21 [==============================] - 3s 145ms/step - loss: 0.1485 - acc: 0.9385 - val_loss: 0.1653 - val_acc: 0.9481\n",
      "Epoch 19/25\n",
      "21/21 [==============================] - 2s 111ms/step - loss: 0.1251 - acc: 0.9494 - val_loss: 0.1783 - val_acc: 0.9394\n",
      "Epoch 20/25\n",
      "21/21 [==============================] - 3s 142ms/step - loss: 0.0995 - acc: 0.9573 - val_loss: 0.2083 - val_acc: 0.9437\n",
      "Epoch 21/25\n",
      "21/21 [==============================] - 3s 127ms/step - loss: 0.1629 - acc: 0.9380 - val_loss: 0.3306 - val_acc: 0.8961\n",
      "Epoch 22/25\n",
      "21/21 [==============================] - 2s 115ms/step - loss: 0.1338 - acc: 0.9479 - val_loss: 0.1821 - val_acc: 0.9481\n",
      "Epoch 23/25\n",
      "21/21 [==============================] - 2s 116ms/step - loss: 0.0943 - acc: 0.9598 - val_loss: 0.1447 - val_acc: 0.9567\n",
      "Epoch 24/25\n",
      "21/21 [==============================] - 2s 115ms/step - loss: 0.1130 - acc: 0.9543 - val_loss: 0.1731 - val_acc: 0.9610\n",
      "Epoch 25/25\n",
      "21/21 [==============================] - 2s 106ms/step - loss: 0.0983 - acc: 0.9608 - val_loss: 0.2625 - val_acc: 0.9264\n",
      "[INFO] serializing network...\n"
     ]
    }
   ],
   "source": [
    "# initialize the model\n",
    "print(\"[INFO] compiling model...\")\n",
    "model = LeNet.build(width=28, height=28, depth=3, classes=2)\n",
    "opt = Adam(lr=INIT_LR, decay=INIT_LR / EPOCHS)\n",
    "model.compile(loss=\"binary_crossentropy\", optimizer=opt, metrics=[\"accuracy\"])\n",
    "\n",
    "# train the network\n",
    "print(\"[INFO] training network...\")\n",
    "H = model.fit_generator(aug.flow(trainX, trainY, batch_size=BS),\n",
    "    validation_data=(testX, testY), steps_per_epoch=len(trainX) // BS,\n",
    "    epochs=EPOCHS, verbose=1)\n",
    "\n",
    "# save the model to disk\n",
    "print(\"[INFO] serializing network...\")\n"
   ]
  },
  {
   "cell_type": "code",
   "execution_count": 83,
   "metadata": {},
   "outputs": [
    {
     "data": {
      "image/png": "[encoded data removed]",
      "text/plain": [
       "<matplotlib.figure.Figure at 0x12ed05828>"
      ]
     },
     "metadata": {},
     "output_type": "display_data"
    }
   ],
   "source": [
    "# plot the training loss and accuracy\n",
    "plt.style.use(\"ggplot\")\n",
    "plt.figure()\n",
    "N = EPOCHS\n",
    "plt.plot(np.arange(0, N), H.history[\"loss\"], label=\"train_loss\")\n",
    "plt.plot(np.arange(0, N), H.history[\"val_loss\"], label=\"val_loss\")\n",
    "plt.plot(np.arange(0, N), H.history[\"acc\"], label=\"train_acc\")\n",
    "plt.plot(np.arange(0, N), H.history[\"val_acc\"], label=\"val_acc\")\n",
    "plt.title(\"Training Loss and Accuracy on Santa/Not Santa\")\n",
    "plt.xlabel(\"Epoch #\")\n",
    "plt.ylabel(\"Loss/Accuracy\")\n",
    "plt.legend(loc=\"lower left\")\n",
    "plt.show()"
   ]
  },
  {
   "cell_type": "code",
   "execution_count": 82,
   "metadata": {
    "collapsed": true
   },
   "outputs": [],
   "source": [
    "%matplotlib inline\n",
    "import seaborn as sns\n",
    "import matplotlib as mpl\n",
    "import matplotlib.pyplot as plt\n",
    "import matplotlib.pylab as pylab\n",
    "pylab.rcParams['figure.figsize'] = 8,6 # Big graphs unless specified\n",
    "sns.set(color_codes=True) # Set style and color of graphs"
   ]
  },
  {
   "cell_type": "code",
   "execution_count": 84,
   "metadata": {
    "collapsed": true
   },
   "outputs": [],
   "source": [
    "# load the image\n",
    "image = cv2.imread('/Users/houzhuo/Downloads/image-classification-keras/test.jpeg')\n",
    "orig = image.copy()\n",
    "# pre-process the image for classification\n",
    "image = cv2.resize(image, (28, 28))\n",
    "image = image.astype(\"float\") / 255.0\n",
    "image = img_to_array(image)\n",
    "image = np.expand_dims(image, axis=0)"
   ]
  },
  {
   "cell_type": "code",
   "execution_count": null,
   "metadata": {
    "collapsed": true
   },
   "outputs": [],
   "source": []
  },
  {
   "cell_type": "code",
   "execution_count": null,
   "metadata": {},
   "outputs": [],
   "source": []
  },
  {
   "cell_type": "code",
   "execution_count": null,
   "metadata": {
    "collapsed": true
   },
   "outputs": [],
   "source": []
  }
 ],
 "metadata": {
  "kernelspec": {
   "display_name": "Python 3",
   "language": "python",
   "name": "python3"
  },
  "language_info": {
   "codemirror_mode": {
    "name": "ipython",
    "version": 3
   },
   "file_extension": ".py",
   "mimetype": "text/x-python",
   "name": "python",
   "nbconvert_exporter": "python",
   "pygments_lexer": "ipython3",
   "version": "3.6.3"
  }
 },
 "nbformat": 4,
 "nbformat_minor": 2
}
