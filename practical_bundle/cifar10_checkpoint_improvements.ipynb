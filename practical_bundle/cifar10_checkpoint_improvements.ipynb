{
 "cells": [
  {
   "cell_type": "code",
   "execution_count": 2,
   "metadata": {},
   "outputs": [
    {
     "name": "stderr",
     "output_type": "stream",
     "text": [
      "usage: ipykernel_launcher.py [-h] -w WEIGHTS\n",
      "ipykernel_launcher.py: error: the following arguments are required: -w/--weights\n"
     ]
    },
    {
     "ename": "SystemExit",
     "evalue": "2",
     "output_type": "error",
     "traceback": [
      "An exception has occurred, use %tb to see the full traceback.\n",
      "\u001b[1;31mSystemExit\u001b[0m\u001b[1;31m:\u001b[0m 2\n"
     ]
    },
    {
     "name": "stderr",
     "output_type": "stream",
     "text": [
      "C:\\Users\\HOU\\Anaconda3\\envs\\tensorflow_gpu\\lib\\site-packages\\IPython\\core\\interactiveshell.py:2918: UserWarning: To exit: use 'exit', 'quit', or Ctrl-D.\n",
      "  warn(\"To exit: use 'exit', 'quit', or Ctrl-D.\", stacklevel=1)\n"
     ]
    }
   ],
   "source": [
    "# import the necessary packages\n",
    "from sklearn.preprocessing import LabelBinarizer\n",
    "from CV.nn.conv.MiniVGGNet import MiniVGGNet\n",
    "from keras.callbacks import ModelCheckpoint\n",
    "from keras.optimizers import SGD\n",
    "from keras.datasets import cifar10\n",
    "import argparse \n",
    "import os\n",
    "#from CV.preprocessing import ImageToArrayPreprocessor\n",
    "# construct the argument parse and parse the arguments\n",
    "ap = argparse.ArgumentParser()\n",
    "ap.add_argument(\"-w\", \"--weights\", \n",
    "                required=True, help=\"path to weights directory\")\n",
    "args = vars(ap.parse_args())\n",
    "\n",
    "\n",
    "print(\"[INFO] loading CIFAR-10 data...\")\n",
    "((train_X,train_y),(test_X,test_y)) = cifar10.load_data()\n",
    "train_X = train_X.astype(\"float\")/255.0\n",
    "test_X = test_X.astype(\"float\")/255.0\n",
    "\n",
    "lb = LabelBinarizer()\n",
    "train_y = lb.fit_transform(train_y)\n",
    "test_y = lb.fit_transform(test_y)\n",
    "\n",
    "# initialize the optimizer and model\n",
    "print(\"[INFO] compiling model...\")\n",
    "opt = SGD(lr=0.01, decay=0.01 / 40, momentum=0.9, nesterov=True)\n",
    "model = MiniVGGNet.build(width=32, height=32, depth=3, classes=10)\n",
    "model.compile(loss=\"categorical_crossentropy\", optimizer=opt,\n",
    "    metrics=[\"accuracy\"])\n",
    "\n",
    "# construct the callback to save only the *best* model to disk\n",
    "# based on the validation loss\n",
    "\n",
    "fname = os.path.sep.join([args['weights'],\n",
    "        \"weights-{epoch:03d}-{val_loss:.4f}.hdf5\"])\n",
    "checkpoint = ModelCheckpoint(fname, monitor=\"val_loss\",mode=\"min\",\n",
    "                             save_best_only=True, verbose=1)\n",
    "callbacks = [checkpoint]\n",
    "\n",
    "\n",
    "# train the network\n",
    "print(\"[INFO] training network...\")\n",
    "H = model.fit(train_X, train_y, validation_data=(test_X, test_y),\n",
    "    batch_size=64, epochs=40, callbacks=callbacks, verbose=2)"
   ]
  },
  {
   "cell_type": "code",
   "execution_count": null,
   "metadata": {},
   "outputs": [],
   "source": []
  },
  {
   "cell_type": "code",
   "execution_count": null,
   "metadata": {},
   "outputs": [],
   "source": []
  }
 ],
 "metadata": {
  "kernelspec": {
   "display_name": "Python 3",
   "language": "python",
   "name": "python3"
  },
  "language_info": {
   "codemirror_mode": {
    "name": "ipython",
    "version": 3
   },
   "file_extension": ".py",
   "mimetype": "text/x-python",
   "name": "python",
   "nbconvert_exporter": "python",
   "pygments_lexer": "ipython3",
   "version": "3.6.4"
  }
 },
 "nbformat": 4,
 "nbformat_minor": 2
}
