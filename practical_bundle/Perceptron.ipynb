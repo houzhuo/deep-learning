{
 "cells": [
  {
   "cell_type": "code",
   "execution_count": 3,
   "metadata": {},
   "outputs": [],
   "source": [
    "import numpy as np\n",
    "\n",
    "class Perceptron:\n",
    "    def __init__(self, N, alpha=0.1):#  N:feature number;\n",
    "        self.W = np.random.randn(N + 1)/np.sqrt(N) #+1 for bias\n",
    "        self.alpha = alpha\n",
    "        #divide W by the square-root of the number of inputs,\n",
    "        #a common technique used to scale our weight matrix, leading to faster\n",
    "        #convergence.\n",
    "        \n",
    "    def step(self,x):\n",
    "        return 1 if x > 0 else 0\n",
    "    \n",
    "    def fit(self,X,y,epochs=10):\n",
    "        # insert a column of 1’s as the last entry in the feature\n",
    "        # matrix -- this little trick allows us to treat the bias\n",
    "        # as a trainable parameter within the weight matrix\n",
    "        X = np.c_[X, np.ones((X.shape[0]))] #c_ mean concate ,plus one colum '1'\n",
    "        \n",
    "        # loop over the desired number of epochs\n",
    "        for epoch in np.arange(0, epochs):\n",
    "            # loop over each individual data point\n",
    "            for (x, target) in zip(X,y):\n",
    "                p = self.step(np.dot(x, self.W))\n",
    "                \n",
    "                #only perform a weight update if our prediction does not right\n",
    "                if p != target:\n",
    "                    # determin the error\n",
    "                    error = p - target\n",
    "                    \n",
    "                    self.W += -self.alpha * error * x  #partial(wx-y)^2\n",
    "    \n",
    "    def predict(self, X, addBias = True):\n",
    "        #ensure input is a matrix\n",
    "        X = np.atleast_2d(X)\n",
    "        \n",
    "        #check to see if the bias column should be added\n",
    "        if addBias:\n",
    "            X = np.c_[X, np.ones((X.shape[0]))]\n",
    "        \n",
    "        return self.step(np.dot(X, self.W))\n",
    "    "
   ]
  },
  {
   "cell_type": "code",
   "execution_count": null,
   "metadata": {},
   "outputs": [],
   "source": []
  }
 ],
 "metadata": {
  "kernelspec": {
   "display_name": "Python 3",
   "language": "python",
   "name": "python3"
  },
  "language_info": {
   "codemirror_mode": {
    "name": "ipython",
    "version": 3
   },
   "file_extension": ".py",
   "mimetype": "text/x-python",
   "name": "python",
   "nbconvert_exporter": "python",
   "pygments_lexer": "ipython3",
   "version": "3.6.4"
  }
 },
 "nbformat": 4,
 "nbformat_minor": 2
}
