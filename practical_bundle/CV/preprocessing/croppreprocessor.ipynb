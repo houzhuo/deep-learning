{
 "cells": [
  {
   "cell_type": "code",
   "execution_count": null,
   "metadata": {},
   "outputs": [],
   "source": [
    "# import the necessary packages\n",
    "import numpy as np\n",
    "import cv2\n",
    "#抠不同位置的图然后做个反转\n",
    "class CropPreprocessor:\n",
    "    def __init__(self, width, height, horiz=True, inter=cv2.INTER_AREA):\n",
    "        # store the target image width, height, whether or not\n",
    "        # horizontal flips should be included, along with the\n",
    "        # interpolation method used when resizing\n",
    "        self.width = width\n",
    "        self.height = height\n",
    "        self.horiz = horiz\n",
    "        self.inter = inter\n",
    "    def preprocess(self, image):\n",
    "        # initialize the list of crops\n",
    "        crops = []\n",
    "\n",
    "        # grab the width and height of the image then use these\n",
    "        # dimensions to define the corners of the image based\n",
    "        (h, w) = image.shape[:2]\n",
    "        coords = [\n",
    "        [0, 0, self.width, self.height],\n",
    "        [w - self.width, 0, w, self.height],\n",
    "        [w - self.width, h - self.height, w, h],\n",
    "        [0, h - self.height, self.width, h]]\n",
    "\n",
    "        # compute the center crop of the image as well\n",
    "        dW = int(0.5 * (w - self.width))\n",
    "        dH = int(0.5 * (h - self.height))\n",
    "        coords.append([dW, dH, w - dW, h - dH])\n",
    "        # loop over the coordinates, extract each of the crops,\n",
    "        # and resize each of them to a fixed size\n",
    "        for (startX, startY, endX, endY) in coords:\n",
    "            crop = image[startY:endY, startX:endX]\n",
    "            crop = cv2.resize(crop, (self.width, self.height),\n",
    "            interpolation=self.inter)\n",
    "            crops.append(crop)\n",
    "            # check to see if the horizontal flips should be taken\n",
    "        if self.horiz:\n",
    "            # compute the horizontal mirror flips for each crop\n",
    "            mirrors = [cv2.flip(c, 1) for c in crops]\n",
    "            crops.extend(mirrors)\n",
    "\n",
    "        # return the set of crops\n",
    "        return np.array(crops)"
   ]
  }
 ],
 "metadata": {
  "kernelspec": {
   "display_name": "Python 3",
   "language": "python",
   "name": "python3"
  },
  "language_info": {
   "codemirror_mode": {
    "name": "ipython",
    "version": 3
   },
   "file_extension": ".py",
   "mimetype": "text/x-python",
   "name": "python",
   "nbconvert_exporter": "python",
   "pygments_lexer": "ipython3",
   "version": "3.6.5"
  }
 },
 "nbformat": 4,
 "nbformat_minor": 2
}
