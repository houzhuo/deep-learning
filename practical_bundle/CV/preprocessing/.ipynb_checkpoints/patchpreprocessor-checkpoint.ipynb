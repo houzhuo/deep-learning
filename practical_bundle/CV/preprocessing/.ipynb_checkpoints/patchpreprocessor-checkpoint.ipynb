{
 "cells": [
  {
   "cell_type": "code",
   "execution_count": null,
   "metadata": {},
   "outputs": [],
   "source": [
    "# import the necessary packages\n",
    "from sklearn.feature_extraction.image import extract_patches_2d\n",
    "\n",
    "class PatchPreprocessor:\n",
    "    def __init__(self, width, height):\n",
    "        # store the target width and height of the image\n",
    "        self.width = width\n",
    "        self.height = height\n",
    "    def preprocess(self, image):\n",
    "        # extract a random crop from the image with the target width\n",
    "        # and height\n",
    "        # 随机抠一个固定大小区域\n",
    "        return extract_patches_2d(image, (self.height, self.width),\n",
    "            max_patches=1)[0]"
   ]
  }
 ],
 "metadata": {
  "kernelspec": {
   "display_name": "Python 3",
   "language": "python",
   "name": "python3"
  },
  "language_info": {
   "codemirror_mode": {
    "name": "ipython",
    "version": 3
   },
   "file_extension": ".py",
   "mimetype": "text/x-python",
   "name": "python",
   "nbconvert_exporter": "python",
   "pygments_lexer": "ipython3",
   "version": "3.6.5"
  }
 },
 "nbformat": 4,
 "nbformat_minor": 2
}
