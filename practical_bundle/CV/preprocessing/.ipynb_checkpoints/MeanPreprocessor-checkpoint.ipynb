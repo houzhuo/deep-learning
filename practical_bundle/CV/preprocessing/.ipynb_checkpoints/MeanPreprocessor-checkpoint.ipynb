{
 "cells": [
  {
   "cell_type": "code",
   "execution_count": null,
   "metadata": {},
   "outputs": [],
   "source": [
    "import cv2\n",
    "class MeanPreprocessor:\n",
    "    def __init__(self, rMean, gMean, bMean):\n",
    "        # store the Red, Green, and Blue channel averages across a\n",
    "        # training set\n",
    "        self.rMean = rMean\n",
    "        self.gMean = gMean\n",
    "        self.bMean = bMean\n",
    "    def preprocess(self, image):\n",
    "        # split the image into its respective Red, Green, and Blue\n",
    "        # channels\n",
    "        # 分割channel\n",
    "        (B, G, R) = cv2.split(image.astype(\"float32\"))\n",
    "\n",
    "        # subtract the means for each channel\n",
    "        R -= self.rMean\n",
    "        G -= self.gMean\n",
    "        B -= self.bMean\n",
    "\n",
    "        # merge the channels back together and return the image\n",
    "        return cv2.merge([B, G, R])"
   ]
  }
 ],
 "metadata": {
  "kernelspec": {
   "display_name": "Python 3",
   "language": "python",
   "name": "python3"
  },
  "language_info": {
   "codemirror_mode": {
    "name": "ipython",
    "version": 3
   },
   "file_extension": ".py",
   "mimetype": "text/x-python",
   "name": "python",
   "nbconvert_exporter": "python",
   "pygments_lexer": "ipython3",
   "version": "3.6.5"
  }
 },
 "nbformat": 4,
 "nbformat_minor": 2
}
