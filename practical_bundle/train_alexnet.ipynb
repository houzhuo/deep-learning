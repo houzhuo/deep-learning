{
 "cells": [
  {
   "cell_type": "code",
   "execution_count": 31,
   "metadata": {},
   "outputs": [
    {
     "name": "stdout",
     "output_type": "stream",
     "text": [
      "[info] loading images...\n",
      "[INFO] processed 500/5832\n",
      "[INFO] processed 1000/5832\n",
      "[INFO] processed 1500/5832\n",
      "[INFO] processed 2000/5832\n",
      "[INFO] processed 2500/5832\n",
      "[INFO] processed 3000/5832\n",
      "[INFO] processed 3500/5832\n",
      "[INFO] processed 4000/5832\n",
      "[INFO] processed 4500/5832\n",
      "[INFO] processed 5000/5832\n",
      "[INFO] processed 5500/5832\n"
     ]
    }
   ],
   "source": [
    "# import the necessary packages\n",
    "# set the matplotlib backend so figures can be saved in the background\n",
    "import matplotlib\n",
    "matplotlib.use(\"Agg\")\n",
    "\n",
    "# import the necessary packages\n",
    "#from config import dogs_vs_cats_config as config\n",
    "from CV.preprocessing.ImageToArrayPreprocessor import ImageToArrayPreprocessor\n",
    "from CV.preprocessing.SimplePreprocessor import SimplePreprocessor\n",
    "from CV.preprocessing.patchpreprocessor import PatchPreprocessor\n",
    "from CV.preprocessing.meanpreprocessor import MeanPreprocessor\n",
    "#from CV.callbacks import TrainingMonitor\n",
    "from CV.io.hdf5datasetgenerator import HDF5DatasetGenerator\n",
    "from CV.nn.conv.alexnet import AlexNet\n",
    "from keras.preprocessing.image import ImageDataGenerator\n",
    "from keras.optimizers import Adam\n",
    "import json\n",
    "import os\n",
    "from imutils import paths\n",
    "from CV.datasets.SimpleDatasetLoader import SimpleDatasetLoader\n",
    "\n",
    "print(\"[info] loading images...\")\n",
    "\n",
    "imagePaths = list(paths.list_images(\"C:/Users/HOU/Documents/practical_bundle/data3/\"))\n",
    "\n",
    "sp = SimplePreprocessor(227,227 )\n",
    "iap = ImageToArrayPreprocessor()\n",
    "#mp = MeanPreprocessor(means[\"R\"], means[\"G\"], means[\"B\"])\n",
    "\n",
    "sdl = SimpleDatasetLoader(preprocessors=[sp, iap])\n",
    "(data, labels) = sdl.load(imagePaths, verbose=500)"
   ]
  },
  {
   "cell_type": "code",
   "execution_count": 32,
   "metadata": {},
   "outputs": [],
   "source": [
    "from keras.optimizers import SGD\n",
    "from sklearn.preprocessing import LabelBinarizer\n",
    "from sklearn.model_selection import train_test_split\n",
    "from sklearn.metrics import classification_report\n",
    "data = data-255.0\n",
    "data = data.astype(\"float\") / 50\n",
    "#if K.image_data_format() == \"channels_first\":\n",
    "#    data = data.reshape(data.shape[0],1,28,28)\n",
    "#else:\n",
    "#    data = data.reshape(data.shape[0], 28, 28, 1)\n",
    "    \n",
    "\n",
    "(train_X, test_X, train_y, test_y) = train_test_split(data,\n",
    "                               labels, test_size=0.25,\n",
    "                                                     random_state=42)\n",
    "\n",
    "\n",
    "from keras.utils import to_categorical\n",
    "lb = LabelBinarizer()\n",
    "#train_y = lb.fit_transform(train_y)\n",
    "#test_y = lb.fit_transform(test_y)\n",
    "lb.fit(train_y)\n",
    "train_y=lb.transform(train_y)\n",
    "test_y = lb.transform(test_y)\n",
    "train_y = to_categorical(train_y, num_classes=2)\n",
    "test_y = to_categorical(test_y, num_classes=2)"
   ]
  },
  {
   "cell_type": "code",
   "execution_count": 33,
   "metadata": {},
   "outputs": [
    {
     "name": "stdout",
     "output_type": "stream",
     "text": [
      "[INFO] compiling model...\n",
      "[INFO] training network...\n",
      "Train on 4374 samples, validate on 1458 samples\n",
      "Epoch 1/30\n",
      "4374/4374 [==============================] - 508s 116ms/step - loss: 5.3678 - acc: 0.5428 - val_loss: 5.6243 - val_acc: 0.5741\n",
      "Epoch 2/30\n",
      "4374/4374 [==============================] - 483s 110ms/step - loss: 3.4352 - acc: 0.6116 - val_loss: 3.5439 - val_acc: 0.6406\n",
      "Epoch 3/30\n",
      "4374/4374 [==============================] - 490s 112ms/step - loss: 3.1018 - acc: 0.6959 - val_loss: 3.2530 - val_acc: 0.6399\n",
      "Epoch 4/30\n",
      "4374/4374 [==============================] - 493s 113ms/step - loss: 2.9018 - acc: 0.7689 - val_loss: 3.3685 - val_acc: 0.6049\n",
      "Epoch 5/30\n",
      "4374/4374 [==============================] - 494s 113ms/step - loss: 2.7058 - acc: 0.8198 - val_loss: 3.5782 - val_acc: 0.6070\n",
      "Epoch 6/30\n",
      "4374/4374 [==============================] - 489s 112ms/step - loss: 2.5919 - acc: 0.8326 - val_loss: 4.2243 - val_acc: 0.5494\n",
      "Epoch 7/30\n",
      "4374/4374 [==============================] - 491s 112ms/step - loss: 2.3999 - acc: 0.8738 - val_loss: 4.1816 - val_acc: 0.6049\n",
      "Epoch 8/30\n",
      "4374/4374 [==============================] - 492s 112ms/step - loss: 2.2086 - acc: 0.9140 - val_loss: 3.2868 - val_acc: 0.6667\n",
      "Epoch 9/30\n",
      "4374/4374 [==============================] - 489s 112ms/step - loss: 2.0814 - acc: 0.9220 - val_loss: 4.2870 - val_acc: 0.5480\n",
      "Epoch 10/30\n",
      "4374/4374 [==============================] - 488s 112ms/step - loss: 1.9068 - acc: 0.9529 - val_loss: 4.7619 - val_acc: 0.5617\n",
      "Epoch 11/30\n",
      "4374/4374 [==============================] - 487s 111ms/step - loss: 1.8662 - acc: 0.9353 - val_loss: 3.4943 - val_acc: 0.6550\n",
      "Epoch 12/30\n",
      "4374/4374 [==============================] - 487s 111ms/step - loss: 1.7142 - acc: 0.9600 - val_loss: 2.4534 - val_acc: 0.7949\n",
      "Epoch 13/30\n",
      "4374/4374 [==============================] - 484s 111ms/step - loss: 1.6126 - acc: 0.9678 - val_loss: 2.5468 - val_acc: 0.7606\n",
      "Epoch 14/30\n",
      "4374/4374 [==============================] - 482s 110ms/step - loss: 1.5980 - acc: 0.9488 - val_loss: 2.0098 - val_acc: 0.8532\n",
      "Epoch 15/30\n",
      "4374/4374 [==============================] - 483s 110ms/step - loss: 1.4291 - acc: 0.9815 - val_loss: 1.4812 - val_acc: 0.9458\n",
      "Epoch 16/30\n",
      "4374/4374 [==============================] - 483s 110ms/step - loss: 1.3623 - acc: 0.9758 - val_loss: 1.4176 - val_acc: 0.9534\n",
      "Epoch 17/30\n",
      "4374/4374 [==============================] - 482s 110ms/step - loss: 1.2682 - acc: 0.9865 - val_loss: 1.2990 - val_acc: 0.9657\n",
      "Epoch 18/30\n",
      "4374/4374 [==============================] - 482s 110ms/step - loss: 1.1838 - acc: 0.9899 - val_loss: 1.2149 - val_acc: 0.9664\n",
      "Epoch 19/30\n",
      "4374/4374 [==============================] - 483s 110ms/step - loss: 1.1219 - acc: 0.9909 - val_loss: 1.2563 - val_acc: 0.9355\n",
      "Epoch 20/30\n",
      "4374/4374 [==============================] - 482s 110ms/step - loss: 1.0632 - acc: 0.9888 - val_loss: 1.4819 - val_acc: 0.8971\n",
      "Epoch 21/30\n",
      "4374/4374 [==============================] - 482s 110ms/step - loss: 1.0300 - acc: 0.9824 - val_loss: 1.8907 - val_acc: 0.8093\n",
      "Epoch 22/30\n",
      "4374/4374 [==============================] - 488s 112ms/step - loss: 0.9688 - acc: 0.9877 - val_loss: 1.0410 - val_acc: 0.9602\n",
      "Epoch 23/30\n",
      "4374/4374 [==============================] - 510s 117ms/step - loss: 0.9067 - acc: 0.9915 - val_loss: 1.0189 - val_acc: 0.9520\n",
      "Epoch 24/30\n",
      "4374/4374 [==============================] - 504s 115ms/step - loss: 0.8543 - acc: 0.9936 - val_loss: 0.9805 - val_acc: 0.9499\n",
      "Epoch 25/30\n",
      "4374/4374 [==============================] - 489s 112ms/step - loss: 0.8224 - acc: 0.9888 - val_loss: 0.8585 - val_acc: 0.9733\n",
      "Epoch 26/30\n",
      "4374/4374 [==============================] - 500s 114ms/step - loss: 0.7778 - acc: 0.9899 - val_loss: 1.0434 - val_acc: 0.9218\n",
      "Epoch 27/30\n",
      "4374/4374 [==============================] - 494s 113ms/step - loss: 0.7558 - acc: 0.9874 - val_loss: 0.9632 - val_acc: 0.9218\n",
      "Epoch 28/30\n",
      "4374/4374 [==============================] - 487s 111ms/step - loss: 0.7155 - acc: 0.9899 - val_loss: 0.7626 - val_acc: 0.9726\n",
      "Epoch 29/30\n",
      "4374/4374 [==============================] - 496s 113ms/step - loss: 0.7083 - acc: 0.9851 - val_loss: 0.9284 - val_acc: 0.9198\n",
      "Epoch 30/30\n",
      "4374/4374 [==============================] - 494s 113ms/step - loss: 0.6717 - acc: 0.9883 - val_loss: 0.8177 - val_acc: 0.9383\n",
      "[INFO] evaluating network...\n",
      "                                                 precision    recall  f1-score   support\n",
      "\n",
      "C:/Users/HOU/Documents/practical_bundle/data3/0       0.89      1.00      0.94       711\n",
      "C:/Users/HOU/Documents/practical_bundle/data3/1       1.00      0.88      0.94       747\n",
      "\n",
      "                                    avg / total       0.94      0.94      0.94      1458\n",
      "\n"
     ]
    },
    {
     "ename": "NameError",
     "evalue": "name 'plt' is not defined",
     "output_type": "error",
     "traceback": [
      "\u001b[1;31m---------------------------------------------------------------------------\u001b[0m",
      "\u001b[1;31mNameError\u001b[0m                                 Traceback (most recent call last)",
      "\u001b[1;32m<ipython-input-33-c8a283a6fc47>\u001b[0m in \u001b[0;36m<module>\u001b[1;34m()\u001b[0m\n\u001b[0;32m     25\u001b[0m       target_names=[str(x) for x in lb.classes_]))\n\u001b[0;32m     26\u001b[0m \u001b[1;33m\u001b[0m\u001b[0m\n\u001b[1;32m---> 27\u001b[1;33m \u001b[0mplt\u001b[0m\u001b[1;33m.\u001b[0m\u001b[0mstyle\u001b[0m\u001b[1;33m.\u001b[0m\u001b[0muse\u001b[0m\u001b[1;33m(\u001b[0m\u001b[1;34m\"ggplot\"\u001b[0m\u001b[1;33m)\u001b[0m\u001b[1;33m\u001b[0m\u001b[0m\n\u001b[0m\u001b[0;32m     28\u001b[0m \u001b[0mplt\u001b[0m\u001b[1;33m.\u001b[0m\u001b[0mfigure\u001b[0m\u001b[1;33m(\u001b[0m\u001b[1;33m)\u001b[0m\u001b[1;33m\u001b[0m\u001b[0m\n\u001b[0;32m     29\u001b[0m \u001b[0mplt\u001b[0m\u001b[1;33m.\u001b[0m\u001b[0mplot\u001b[0m\u001b[1;33m(\u001b[0m\u001b[0mnp\u001b[0m\u001b[1;33m.\u001b[0m\u001b[0marange\u001b[0m\u001b[1;33m(\u001b[0m\u001b[1;36m0\u001b[0m\u001b[1;33m,\u001b[0m \u001b[0mEPOCHS\u001b[0m\u001b[1;33m)\u001b[0m\u001b[1;33m,\u001b[0m \u001b[0mH\u001b[0m\u001b[1;33m.\u001b[0m\u001b[0mhistory\u001b[0m\u001b[1;33m[\u001b[0m\u001b[1;34m\"loss\"\u001b[0m\u001b[1;33m]\u001b[0m\u001b[1;33m,\u001b[0m \u001b[0mlabel\u001b[0m\u001b[1;33m=\u001b[0m\u001b[1;34m\"train_loss\"\u001b[0m\u001b[1;33m)\u001b[0m\u001b[1;33m\u001b[0m\u001b[0m\n",
      "\u001b[1;31mNameError\u001b[0m: name 'plt' is not defined"
     ]
    }
   ],
   "source": [
    "from keras.optimizers import Adam\n",
    "EPOCHS = 30\n",
    "INIT_LR = 1e-3\n",
    "BS = 128\n",
    "# initialize the optimizer and model\n",
    "print(\"[INFO] compiling model...\")\n",
    "#opt = SGD(lr=0.01, decay=0.01/40, momentum=0.9,nesterov=True)\n",
    "#opt = Adam(lr=0.05, decay=0.05 / 40)\n",
    "#opt = SGD(lr=0.1)\n",
    "#opt = SGD(lr=0.05, decay=0.05/20, momentum=0.9,nesterov=True)\n",
    "opt = Adam(lr=1e-3)\n",
    "model = AlexNet.build(width=227, height=227, depth=3, classes=2)\n",
    "model.compile(loss=\"binary_crossentropy\", optimizer=opt,\n",
    "metrics=[\"accuracy\"])\n",
    "\n",
    "# train the network\n",
    "print(\"[INFO] training network...\")\n",
    "H = model.fit(train_X, train_y, validation_data=(test_X, test_y),\n",
    "    batch_size=BS, epochs=EPOCHS, verbose=1)\n",
    "\n"
   ]
  },
  {
   "cell_type": "code",
   "execution_count": 95,
   "metadata": {
    "scrolled": false
   },
   "outputs": [
    {
     "name": "stdout",
     "output_type": "stream",
     "text": [
      "[INFO] evaluating network...\n",
      "[0 0 0 ... 1 1 1]\n",
      "[0 0 0 ... 0 1 1]\n",
      "                                                 precision    recall  f1-score   support\n",
      "\n",
      "C:/Users/HOU/Documents/practical_bundle/data3/0       0.89      1.00      0.94       711\n",
      "C:/Users/HOU/Documents/practical_bundle/data3/1       1.00      0.88      0.94       747\n",
      "\n",
      "                                    avg / total       0.94      0.94      0.94      1458\n",
      "\n"
     ]
    }
   ],
   "source": [
    "import matplotlib.pyplot as plt\n",
    "import numpy as np\n",
    "%matplotlib inline\n",
    "\n",
    "# evaluate the network\n",
    "print(\"[INFO] evaluating network...\")\n",
    "predictions = model.predict(test_X, batch_size=BS)\n",
    "print(test_y.argmax(axis=1))\n",
    "print(predictions.argmax(axis=1))\n",
    "#print(classification_report(test_y.argmax(axis=1),predictions.argmax(axis=1),\n",
    "#      target_names=[str(x) for x in lb.classes_]))\n",
    "\n",
    "print(classification_report(test_y.argmax(axis=1),predictions.argmax(axis=1),\n",
    "      target_names=[str(x) for x in lb.classes_]))\n"
   ]
  },
  {
   "cell_type": "code",
   "execution_count": 103,
   "metadata": {},
   "outputs": [
    {
     "name": "stdout",
     "output_type": "stream",
     "text": [
      "[0 0 0 1 1 0 0 1 1 0 0 1 1 1 0 0 1 0 1 0 0 1 0 1 1 1 1 0 1 0 0 0 0 1 0 0 1\n",
      " 1 0 0 1 0 1 1 0 0 1 1 0 1 0 0 0 0 0 1 1 0 1 0 1 1 1 0 1 0 0 0 1 0 0 1 1 1\n",
      " 1 1 0 0 1 1 0 1 1 1 1 1 0 0 1 1 1 0 0 1 1 1 1 0 1 1]\n",
      "[0 0 0 1 1 0 0 1 1 0 0 1 1 1 0 0 1 0 1 0 0 1 0 0 1 1 1 0 1 0 0 0 0 0 0 0 1\n",
      " 1 0 0 1 0 1 1 0 0 1 1 0 1 0 0 0 0 0 1 1 0 1 0 1 0 1 0 1 0 0 0 1 0 0 0 1 1\n",
      " 1 1 0 0 0 1 0 1 1 1 1 0 0 0 1 1 1 0 0 1 1 1 1 0 1 1]\n"
     ]
    }
   ],
   "source": [
    "print(test_y[:100].argmax(axis=1))\n",
    "print(predictions[:100].argmax(axis=1))"
   ]
  },
  {
   "cell_type": "code",
   "execution_count": 78,
   "metadata": {
    "scrolled": false
   },
   "outputs": [
    {
     "data": {
      "image/png": "[encoded data removed]",
      "text/plain": [
       "<Figure size 480x320 with 1 Axes>"
      ]
     },
     "metadata": {},
     "output_type": "display_data"
    }
   ],
   "source": [
    "import matplotlib.pyplot as plt\n",
    "plt.style.use('ggplot')\n",
    "\n",
    "plt.figure(figsize=[6,4])\n",
    "plt.plot(np.arange(0, EPOCHS), H.history[\"loss\"], label=\"train_loss\")\n",
    "plt.plot(np.arange(0, EPOCHS), H.history[\"val_loss\"], label=\"val_loss\")\n",
    "plt.plot(np.arange(0, EPOCHS), H.history[\"acc\"], label=\"train_acc\")\n",
    "plt.plot(np.arange(0, EPOCHS), H.history[\"val_acc\"], label=\"val_acc\")\n",
    "plt.xlabel(\"Epoch #\")\n",
    "plt.ylabel(\"Loss/Accuracy\")\n",
    "plt.legend()\n",
    "plt.show()\n"
   ]
  },
  {
   "cell_type": "code",
   "execution_count": 45,
   "metadata": {},
   "outputs": [
    {
     "name": "stdout",
     "output_type": "stream",
     "text": [
      "['bmh', 'classic', 'dark_background', 'fast', 'fivethirtyeight', 'ggplot', 'grayscale', 'seaborn-bright', 'seaborn-colorblind', 'seaborn-dark-palette', 'seaborn-dark', 'seaborn-darkgrid', 'seaborn-deep', 'seaborn-muted', 'seaborn-notebook', 'seaborn-paper', 'seaborn-pastel', 'seaborn-poster', 'seaborn-talk', 'seaborn-ticks', 'seaborn-white', 'seaborn-whitegrid', 'seaborn', 'Solarize_Light2', 'tableau-colorblind10', '_classic_test']\n"
     ]
    }
   ],
   "source": [
    "print (plt.style.available)"
   ]
  },
  {
   "cell_type": "code",
   "execution_count": 85,
   "metadata": {},
   "outputs": [
    {
     "data": {
      "text/plain": [
       "Text(0.5,1,'Loss Curves')"
      ]
     },
     "execution_count": 85,
     "metadata": {},
     "output_type": "execute_result"
    },
    {
     "data": {
      "image/png": "[encoded data removed]",
      "text/plain": [
       "<Figure size 480x320 with 1 Axes>"
      ]
     },
     "metadata": {},
     "output_type": "display_data"
    }
   ],
   "source": [
    "# Loss Curves\n",
    "plt.figure(figsize=[6,4])\n",
    "plt.style.use('ggplot')\n",
    "plt.plot(H.history['loss'],linewidth=2.0)\n",
    "plt.plot(H.history['val_loss'],linewidth=2.0)\n",
    "plt.legend(['Training loss', 'Validation Loss'],fontsize=18)\n",
    "plt.xlabel('Epochs ',fontsize=16)\n",
    "plt.ylabel('Loss',fontsize=16)\n",
    "plt.title('Loss Curves',fontsize=16)"
   ]
  },
  {
   "cell_type": "code",
   "execution_count": 91,
   "metadata": {},
   "outputs": [
    {
     "data": {
      "text/plain": [
       "Text(0.5,1,'Accuracy Curves')"
      ]
     },
     "execution_count": 91,
     "metadata": {},
     "output_type": "execute_result"
    },
    {
     "data": {
      "image/png": "[encoded data removed]",
      "text/plain": [
       "<Figure size 640x160 with 1 Axes>"
      ]
     },
     "metadata": {},
     "output_type": "display_data"
    }
   ],
   "source": [
    "# Accuracy Curves\n",
    "plt.figure(figsize=[8,2])\n",
    "plt.plot(H.history['acc'],linewidth=2.0)\n",
    "plt.plot(H.history['val_acc'],linewidth=2.0)\n",
    "plt.legend(['Training Accuracy', 'Validation Accuracy'],fontsize=1)\n",
    "plt.xlabel('Epochs ',fontsize=16)\n",
    "plt.ylabel('Accuracy',fontsize=16)\n",
    "plt.title('Accuracy Curves',fontsize=16)"
   ]
  },
  {
   "cell_type": "code",
   "execution_count": 111,
   "metadata": {},
   "outputs": [
    {
     "name": "stdout",
     "output_type": "stream",
     "text": [
      "[INFO] processed 500/1521\n",
      "[INFO] processed 1000/1521\n",
      "[INFO] processed 1500/1521\n"
     ]
    },
    {
     "data": {
      "text/plain": [
       "array(['C:/Users/HOU/Documents/datasets/output1/1',\n",
       "       'C:/Users/HOU/Documents/datasets/output1/0',\n",
       "       'C:/Users/HOU/Documents/datasets/output1/0',\n",
       "       'C:/Users/HOU/Documents/datasets/output1/1',\n",
       "       'C:/Users/HOU/Documents/datasets/output1/0',\n",
       "       'C:/Users/HOU/Documents/datasets/output1/1',\n",
       "       'C:/Users/HOU/Documents/datasets/output1/1',\n",
       "       'C:/Users/HOU/Documents/datasets/output1/1',\n",
       "       'C:/Users/HOU/Documents/datasets/output1/1',\n",
       "       'C:/Users/HOU/Documents/datasets/output1/1',\n",
       "       'C:/Users/HOU/Documents/datasets/output1/0',\n",
       "       'C:/Users/HOU/Documents/datasets/output1/0',\n",
       "       'C:/Users/HOU/Documents/datasets/output1/1',\n",
       "       'C:/Users/HOU/Documents/datasets/output1/1',\n",
       "       'C:/Users/HOU/Documents/datasets/output1/0',\n",
       "       'C:/Users/HOU/Documents/datasets/output1/1',\n",
       "       'C:/Users/HOU/Documents/datasets/output1/1',\n",
       "       'C:/Users/HOU/Documents/datasets/output1/1',\n",
       "       'C:/Users/HOU/Documents/datasets/output1/1',\n",
       "       'C:/Users/HOU/Documents/datasets/output1/0',\n",
       "       'C:/Users/HOU/Documents/datasets/output1/0',\n",
       "       'C:/Users/HOU/Documents/datasets/output1/1',\n",
       "       'C:/Users/HOU/Documents/datasets/output1/0',\n",
       "       'C:/Users/HOU/Documents/datasets/output1/0',\n",
       "       'C:/Users/HOU/Documents/datasets/output1/0',\n",
       "       'C:/Users/HOU/Documents/datasets/output1/1',\n",
       "       'C:/Users/HOU/Documents/datasets/output1/0',\n",
       "       'C:/Users/HOU/Documents/datasets/output1/0',\n",
       "       'C:/Users/HOU/Documents/datasets/output1/1',\n",
       "       'C:/Users/HOU/Documents/datasets/output1/1',\n",
       "       'C:/Users/HOU/Documents/datasets/output1/1',\n",
       "       'C:/Users/HOU/Documents/datasets/output1/1',\n",
       "       'C:/Users/HOU/Documents/datasets/output1/0',\n",
       "       'C:/Users/HOU/Documents/datasets/output1/0',\n",
       "       'C:/Users/HOU/Documents/datasets/output1/1',\n",
       "       'C:/Users/HOU/Documents/datasets/output1/0',\n",
       "       'C:/Users/HOU/Documents/datasets/output1/1',\n",
       "       'C:/Users/HOU/Documents/datasets/output1/0',\n",
       "       'C:/Users/HOU/Documents/datasets/output1/0',\n",
       "       'C:/Users/HOU/Documents/datasets/output1/0',\n",
       "       'C:/Users/HOU/Documents/datasets/output1/0',\n",
       "       'C:/Users/HOU/Documents/datasets/output1/0',\n",
       "       'C:/Users/HOU/Documents/datasets/output1/0',\n",
       "       'C:/Users/HOU/Documents/datasets/output1/1',\n",
       "       'C:/Users/HOU/Documents/datasets/output1/1',\n",
       "       'C:/Users/HOU/Documents/datasets/output1/0',\n",
       "       'C:/Users/HOU/Documents/datasets/output1/1',\n",
       "       'C:/Users/HOU/Documents/datasets/output1/1',\n",
       "       'C:/Users/HOU/Documents/datasets/output1/0',\n",
       "       'C:/Users/HOU/Documents/datasets/output1/0',\n",
       "       'C:/Users/HOU/Documents/datasets/output1/0',\n",
       "       'C:/Users/HOU/Documents/datasets/output1/1',\n",
       "       'C:/Users/HOU/Documents/datasets/output1/1',\n",
       "       'C:/Users/HOU/Documents/datasets/output1/0',\n",
       "       'C:/Users/HOU/Documents/datasets/output1/0',\n",
       "       'C:/Users/HOU/Documents/datasets/output1/0',\n",
       "       'C:/Users/HOU/Documents/datasets/output1/1',\n",
       "       'C:/Users/HOU/Documents/datasets/output1/0',\n",
       "       'C:/Users/HOU/Documents/datasets/output1/1',\n",
       "       'C:/Users/HOU/Documents/datasets/output1/1',\n",
       "       'C:/Users/HOU/Documents/datasets/output1/1',\n",
       "       'C:/Users/HOU/Documents/datasets/output1/0',\n",
       "       'C:/Users/HOU/Documents/datasets/output1/0',\n",
       "       'C:/Users/HOU/Documents/datasets/output1/0',\n",
       "       'C:/Users/HOU/Documents/datasets/output1/1',\n",
       "       'C:/Users/HOU/Documents/datasets/output1/1',\n",
       "       'C:/Users/HOU/Documents/datasets/output1/0',\n",
       "       'C:/Users/HOU/Documents/datasets/output1/1',\n",
       "       'C:/Users/HOU/Documents/datasets/output1/1',\n",
       "       'C:/Users/HOU/Documents/datasets/output1/0',\n",
       "       'C:/Users/HOU/Documents/datasets/output1/1',\n",
       "       'C:/Users/HOU/Documents/datasets/output1/0',\n",
       "       'C:/Users/HOU/Documents/datasets/output1/0',\n",
       "       'C:/Users/HOU/Documents/datasets/output1/0',\n",
       "       'C:/Users/HOU/Documents/datasets/output1/0',\n",
       "       'C:/Users/HOU/Documents/datasets/output1/0',\n",
       "       'C:/Users/HOU/Documents/datasets/output1/1',\n",
       "       'C:/Users/HOU/Documents/datasets/output1/0',\n",
       "       'C:/Users/HOU/Documents/datasets/output1/1',\n",
       "       'C:/Users/HOU/Documents/datasets/output1/1',\n",
       "       'C:/Users/HOU/Documents/datasets/output1/1',\n",
       "       'C:/Users/HOU/Documents/datasets/output1/1',\n",
       "       'C:/Users/HOU/Documents/datasets/output1/1',\n",
       "       'C:/Users/HOU/Documents/datasets/output1/0',\n",
       "       'C:/Users/HOU/Documents/datasets/output1/0',\n",
       "       'C:/Users/HOU/Documents/datasets/output1/1',\n",
       "       'C:/Users/HOU/Documents/datasets/output1/0',\n",
       "       'C:/Users/HOU/Documents/datasets/output1/1',\n",
       "       'C:/Users/HOU/Documents/datasets/output1/1',\n",
       "       'C:/Users/HOU/Documents/datasets/output1/1',\n",
       "       'C:/Users/HOU/Documents/datasets/output1/0',\n",
       "       'C:/Users/HOU/Documents/datasets/output1/1',\n",
       "       'C:/Users/HOU/Documents/datasets/output1/1',\n",
       "       'C:/Users/HOU/Documents/datasets/output1/0',\n",
       "       'C:/Users/HOU/Documents/datasets/output1/1',\n",
       "       'C:/Users/HOU/Documents/datasets/output1/1',\n",
       "       'C:/Users/HOU/Documents/datasets/output1/0',\n",
       "       'C:/Users/HOU/Documents/datasets/output1/0',\n",
       "       'C:/Users/HOU/Documents/datasets/output1/0',\n",
       "       'C:/Users/HOU/Documents/datasets/output1/0',\n",
       "       'C:/Users/HOU/Documents/datasets/output1/0',\n",
       "       'C:/Users/HOU/Documents/datasets/output1/1',\n",
       "       'C:/Users/HOU/Documents/datasets/output1/0',\n",
       "       'C:/Users/HOU/Documents/datasets/output1/1',\n",
       "       'C:/Users/HOU/Documents/datasets/output1/0',\n",
       "       'C:/Users/HOU/Documents/datasets/output1/0',\n",
       "       'C:/Users/HOU/Documents/datasets/output1/1',\n",
       "       'C:/Users/HOU/Documents/datasets/output1/1',\n",
       "       'C:/Users/HOU/Documents/datasets/output1/1',\n",
       "       'C:/Users/HOU/Documents/datasets/output1/0',\n",
       "       'C:/Users/HOU/Documents/datasets/output1/1',\n",
       "       'C:/Users/HOU/Documents/datasets/output1/0',\n",
       "       'C:/Users/HOU/Documents/datasets/output1/1',\n",
       "       'C:/Users/HOU/Documents/datasets/output1/0',\n",
       "       'C:/Users/HOU/Documents/datasets/output1/1',\n",
       "       'C:/Users/HOU/Documents/datasets/output1/0',\n",
       "       'C:/Users/HOU/Documents/datasets/output1/0',\n",
       "       'C:/Users/HOU/Documents/datasets/output1/1',\n",
       "       'C:/Users/HOU/Documents/datasets/output1/0',\n",
       "       'C:/Users/HOU/Documents/datasets/output1/1',\n",
       "       'C:/Users/HOU/Documents/datasets/output1/1',\n",
       "       'C:/Users/HOU/Documents/datasets/output1/0',\n",
       "       'C:/Users/HOU/Documents/datasets/output1/0',\n",
       "       'C:/Users/HOU/Documents/datasets/output1/1',\n",
       "       'C:/Users/HOU/Documents/datasets/output1/0',\n",
       "       'C:/Users/HOU/Documents/datasets/output1/1',\n",
       "       'C:/Users/HOU/Documents/datasets/output1/0',\n",
       "       'C:/Users/HOU/Documents/datasets/output1/1',\n",
       "       'C:/Users/HOU/Documents/datasets/output1/1',\n",
       "       'C:/Users/HOU/Documents/datasets/output1/0',\n",
       "       'C:/Users/HOU/Documents/datasets/output1/1',\n",
       "       'C:/Users/HOU/Documents/datasets/output1/1',\n",
       "       'C:/Users/HOU/Documents/datasets/output1/0',\n",
       "       'C:/Users/HOU/Documents/datasets/output1/1',\n",
       "       'C:/Users/HOU/Documents/datasets/output1/1',\n",
       "       'C:/Users/HOU/Documents/datasets/output1/0',\n",
       "       'C:/Users/HOU/Documents/datasets/output1/1',\n",
       "       'C:/Users/HOU/Documents/datasets/output1/1',\n",
       "       'C:/Users/HOU/Documents/datasets/output1/1',\n",
       "       'C:/Users/HOU/Documents/datasets/output1/0',\n",
       "       'C:/Users/HOU/Documents/datasets/output1/1',\n",
       "       'C:/Users/HOU/Documents/datasets/output1/0',\n",
       "       'C:/Users/HOU/Documents/datasets/output1/1',\n",
       "       'C:/Users/HOU/Documents/datasets/output1/0',\n",
       "       'C:/Users/HOU/Documents/datasets/output1/0',\n",
       "       'C:/Users/HOU/Documents/datasets/output1/1',\n",
       "       'C:/Users/HOU/Documents/datasets/output1/1',\n",
       "       'C:/Users/HOU/Documents/datasets/output1/1',\n",
       "       'C:/Users/HOU/Documents/datasets/output1/1',\n",
       "       'C:/Users/HOU/Documents/datasets/output1/1',\n",
       "       'C:/Users/HOU/Documents/datasets/output1/1',\n",
       "       'C:/Users/HOU/Documents/datasets/output1/1'], dtype='<U41')"
      ]
     },
     "execution_count": 111,
     "metadata": {},
     "output_type": "execute_result"
    }
   ],
   "source": [
    "timagePaths = list(paths.list_images(\"C:/Users/HOU/Documents/datasets/output1/\"))\n",
    "\n",
    "sp = SimplePreprocessor(227,227 )\n",
    "iap = ImageToArrayPreprocessor()\n",
    "#mp = MeanPreprocessor(means[\"R\"], means[\"G\"], means[\"B\"])\n",
    "\n",
    "tsdl = SimpleDatasetLoader(preprocessors=[sp, iap])\n",
    "(tdata, tlabels) = tsdl.load(timagePaths, verbose=500)\n",
    "\n",
    "tdata = tdata-255.0\n",
    "tdata = tdata.astype(\"float\") / 50\n",
    "#if K.image_data_format() == \"channels_first\":\n",
    "#    data = data.reshape(data.shape[0],1,28,28)\n",
    "#else:\n",
    "#    data = data.reshape(data.shape[0], 28, 28, 1)\n",
    "    \n",
    "\n",
    "(ttrain_X, ttest_X, ttrain_y, ttest_y) = train_test_split(tdata,\n",
    "                               tlabels, test_size=.9,\n",
    "                                                     random_state=42)\n",
    "\n",
    "\n",
    "ttrain_y\n"
   ]
  },
  {
   "cell_type": "code",
   "execution_count": 112,
   "metadata": {},
   "outputs": [
    {
     "name": "stdout",
     "output_type": "stream",
     "text": [
      "[INFO] evaluating network...\n",
      "[0 1 1 ... 0 1 1]\n",
      "[1 0 1 ... 1 0 0]\n",
      "                                           precision    recall  f1-score   support\n",
      "\n",
      "C:/Users/HOU/Documents/datasets/output1/0       0.42      0.29      0.34       670\n",
      "C:/Users/HOU/Documents/datasets/output1/1       0.48      0.63      0.54       699\n",
      "\n",
      "                              avg / total       0.45      0.46      0.44      1369\n",
      "\n"
     ]
    }
   ],
   "source": [
    "lb = LabelBinarizer()\n",
    "lb.fit(ttrain_y)\n",
    "ttrain_y=lb.transform(ttrain_y)\n",
    "ttest_y = lb.transform(ttest_y)\n",
    "ttrain_y = to_categorical(ttrain_y, num_classes=2)\n",
    "ttest_y = to_categorical(ttest_y, num_classes=2)\n",
    "\n",
    "# evaluate the network\n",
    "print(\"[INFO] evaluating network...\")\n",
    "tpredictions = model.predict(ttest_X, batch_size=BS)\n",
    "print(ttest_y.argmax(axis=1))\n",
    "print(tpredictions.argmax(axis=1))\n",
    "#print(classification_report(test_y.argmax(axis=1),predictions.argmax(axis=1),\n",
    "#      target_names=[str(x) for x in lb.classes_]))\n",
    "\n",
    "print(classification_report(ttest_y.argmax(axis=1),tpredictions.argmax(axis=1),\n",
    "      target_names=[str(x) for x in lb.classes_]))"
   ]
  },
  {
   "cell_type": "code",
   "execution_count": null,
   "metadata": {},
   "outputs": [],
   "source": []
  }
 ],
 "metadata": {
  "kernelspec": {
   "display_name": "Python 3",
   "language": "python",
   "name": "python3"
  },
  "language_info": {
   "codemirror_mode": {
    "name": "ipython",
    "version": 3
   },
   "file_extension": ".py",
   "mimetype": "text/x-python",
   "name": "python",
   "nbconvert_exporter": "python",
   "pygments_lexer": "ipython3",
   "version": "3.6.5"
  }
 },
 "nbformat": 4,
 "nbformat_minor": 2
}
