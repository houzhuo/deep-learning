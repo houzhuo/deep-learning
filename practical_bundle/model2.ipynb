{
 "cells": [
  {
   "cell_type": "code",
   "execution_count": 95,
   "metadata": {},
   "outputs": [
    {
     "name": "stderr",
     "output_type": "stream",
     "text": [
      "C:\\Users\\HOU\\Anaconda3\\envs\\tensorflow_gpu\\lib\\site-packages\\sklearn\\preprocessing\\data.py:181: UserWarning: Numerical issues were encountered when scaling the data and might not be solved. The standard deviation of the data is probably very close to 0. \n",
      "  warnings.warn(\"Numerical issues were encountered \"\n"
     ]
    },
    {
     "data": {
      "text/plain": [
       "array([[-2.1772148 ,  0.33580368,  0.59214901,  1.22366043,  2.19055379,\n",
       "        -0.72295679,  0.67428025,  3.97378279, -0.46461212,  0.        ,\n",
       "         0.        ,  0.        , -1.70317212,  0.50464973, -0.26467088,\n",
       "         0.31222717,  6.61097698,  3.3807872 ,  0.        ,  0.        ,\n",
       "         0.        , -1.05646386, -1.68386122,  1.46457867],\n",
       "       [-0.94368153, -0.07542024, -0.24344119, -1.21778157, -0.55436016,\n",
       "        -1.46936484, -2.10949979,  0.58384938, -0.37179156,  0.        ,\n",
       "         0.        ,  0.        ,  1.090243  , -1.23733768,  1.11573391,\n",
       "        -0.9607427 ,  0.22825866, -0.42048735,  0.        ,  0.        ,\n",
       "         0.        , -0.52242903, -0.64972953,  0.06673878],\n",
       "       [-1.02810003, -0.07528308, -0.21390375, -1.19303286, -0.23260028,\n",
       "        -1.20245222, -2.2217027 ,  0.82506025, -0.30395751,  0.        ,\n",
       "         0.        ,  0.        ,  1.02016257, -0.14753935,  0.03561811,\n",
       "        -0.40114876,  0.52354035, -0.11499341,  0.        ,  0.        ,\n",
       "         0.        , -0.53871206, -0.71655794,  0.19041889]])"
      ]
     },
     "execution_count": 95,
     "metadata": {},
     "output_type": "execute_result"
    }
   ],
   "source": [
    "import pandas as pd\n",
    "import PIL\n",
    "from matplotlib import pyplot as plt\n",
    "from sklearn import preprocessing \n",
    "from sklearn.preprocessing import MinMaxScaler\n",
    "\n",
    "full = pd.read_csv('C:/Users/HOU/Documents/practical_bundle/origin/sugisakaya48.csv')\n",
    "\n",
    "full_nor = preprocessing.scale(full)\n",
    "full_nor[:3]\n",
    "\n"
   ]
  },
  {
   "cell_type": "code",
   "execution_count": 126,
   "metadata": {},
   "outputs": [
    {
     "data": {
      "text/plain": [
       "array([[  0.        , 132.71021139, 170.23512313, 165.68342896,\n",
       "        255.        , 116.61365204, 170.9320887 , 255.        ,\n",
       "        113.9210901 ,   0.        ,   0.        ,   0.        ,\n",
       "        118.59718859, 127.62088678, 127.34713509, 133.64466215,\n",
       "        255.        , 173.16070182,   0.        ,   0.        ,\n",
       "          0.        , 122.39219011,  72.26122721, 180.24034741],\n",
       "       [ 64.62282055, 115.90057166, 128.52268598,  31.84272697,\n",
       "        116.43594174,  95.03826739,  72.21032724, 121.90695092,\n",
       "        117.92537948,   0.        ,   0.        ,   0.        ,\n",
       "        249.05059818,  51.97420524, 186.58051025,  88.55829058,\n",
       "         74.00263194, 100.65380653,   0.        ,   0.        ,\n",
       "          0.        , 139.25481966, 125.85060458, 132.10608536],\n",
       "       [ 60.20027165, 115.90617835, 129.99718696,  33.19946001,\n",
       "        132.67847445, 102.75354118,  68.23125239, 131.37719298,\n",
       "        120.85174811,   0.        ,   0.        ,   0.        ,\n",
       "        245.77781886,  99.29924707, 140.23258051, 108.37813148,\n",
       "         82.37605624, 106.48090918,   0.        ,   0.        ,\n",
       "          0.        , 138.74066833, 122.38751315, 136.36497836]])"
      ]
     },
     "execution_count": 126,
     "metadata": {},
     "output_type": "execute_result"
    }
   ],
   "source": [
    "scaler = MinMaxScaler(feature_range=(0, 255))\n",
    "scaled = scaler.fit_transform(full.values)\n",
    "scaled[:3]\n"
   ]
  },
  {
   "cell_type": "code",
   "execution_count": 166,
   "metadata": {},
   "outputs": [],
   "source": [
    "full_nor = full_nor*100"
   ]
  },
  {
   "cell_type": "code",
   "execution_count": 169,
   "metadata": {},
   "outputs": [
    {
     "data": {
      "image/png": "[encoded data removed]",
      "text/plain": [
       "<Figure size 432x288 with 1 Axes>"
      ]
     },
     "metadata": {},
     "output_type": "display_data"
    }
   ],
   "source": [
    "plt.imshow(scaled[24:48], interpolation='nearest')\n",
    "plt.show()"
   ]
  },
  {
   "cell_type": "code",
   "execution_count": 170,
   "metadata": {},
   "outputs": [
    {
     "data": {
      "image/png": "[encoded data removed]",
      "text/plain": [
       "<Figure size 432x288 with 1 Axes>"
      ]
     },
     "metadata": {},
     "output_type": "display_data"
    }
   ],
   "source": [
    "plt.imshow(scaled[48:72], interpolation='nearest')\n",
    "plt.show()"
   ]
  },
  {
   "cell_type": "code",
   "execution_count": 117,
   "metadata": {},
   "outputs": [
    {
     "data": {
      "image/png": "[encoded data removed]",
      "text/plain": [
       "<Figure size 432x288 with 1 Axes>"
      ]
     },
     "metadata": {},
     "output_type": "display_data"
    }
   ],
   "source": [
    "plt.imshow(scaled[3000:3024], interpolation='nearest')\n",
    "plt.show()"
   ]
  },
  {
   "cell_type": "code",
   "execution_count": 137,
   "metadata": {},
   "outputs": [],
   "source": [
    "from PIL import Image\n",
    "\n",
    "new_p = Image.fromarray(scaled[:64])\n",
    "if new_p.mode != 'RGB':\n",
    "    new_p = new_p.convert('RGB')\n",
    "new_p.save(\"out.jpeg\")"
   ]
  },
  {
   "cell_type": "code",
   "execution_count": 80,
   "metadata": {},
   "outputs": [
    {
     "ename": "NameError",
     "evalue": "name 'misc' is not defined",
     "output_type": "error",
     "traceback": [
      "\u001b[1;31m---------------------------------------------------------------------------\u001b[0m",
      "\u001b[1;31mNameError\u001b[0m                                 Traceback (most recent call last)",
      "\u001b[1;32m<ipython-input-80-57a9acdb13a7>\u001b[0m in \u001b[0;36m<module>\u001b[1;34m()\u001b[0m\n\u001b[0;32m      1\u001b[0m \u001b[1;32mimport\u001b[0m \u001b[0mscipy\u001b[0m\u001b[1;33m.\u001b[0m\u001b[0mmisc\u001b[0m\u001b[1;33m\u001b[0m\u001b[0m\n\u001b[1;32m----> 2\u001b[1;33m \u001b[0mmisc\u001b[0m\u001b[1;33m.\u001b[0m\u001b[0mimsave\u001b[0m\u001b[1;33m(\u001b[0m\u001b[1;34m'out.jpg'\u001b[0m\u001b[1;33m,\u001b[0m \u001b[0mfull_nor\u001b[0m\u001b[1;33m[\u001b[0m\u001b[1;33m:\u001b[0m\u001b[1;36m24\u001b[0m\u001b[1;33m]\u001b[0m\u001b[1;33m)\u001b[0m\u001b[1;33m\u001b[0m\u001b[0m\n\u001b[0m",
      "\u001b[1;31mNameError\u001b[0m: name 'misc' is not defined"
     ]
    }
   ],
   "source": [
    "import scipy.misc\n",
    "misc.imsave('out.jpg', full_nor[:24])"
   ]
  },
  {
   "cell_type": "code",
   "execution_count": 87,
   "metadata": {},
   "outputs": [],
   "source": [
    "from PIL import Image\n",
    "new_im = Image.fromarray(full.values[:100])\n",
    "if new_im.mode != 'RGB':\n",
    "    new_im = new_im.convert('RGB')\n",
    "new_im.save(\"out.jpeg\")"
   ]
  },
  {
   "cell_type": "code",
   "execution_count": 125,
   "metadata": {},
   "outputs": [
    {
     "ename": "ValueError",
     "evalue": "('Expected image array to have rank 3 (single image). Got array with shape:', (24, 24))",
     "output_type": "error",
     "traceback": [
      "\u001b[1;31m---------------------------------------------------------------------------\u001b[0m",
      "\u001b[1;31mValueError\u001b[0m                                Traceback (most recent call last)",
      "\u001b[1;32m<ipython-input-125-c4fe70c98bba>\u001b[0m in \u001b[0;36m<module>\u001b[1;34m()\u001b[0m\n\u001b[0;32m      1\u001b[0m \u001b[1;32mfrom\u001b[0m \u001b[0mkeras\u001b[0m\u001b[1;33m.\u001b[0m\u001b[0mpreprocessing\u001b[0m\u001b[1;33m.\u001b[0m\u001b[0mimage\u001b[0m \u001b[1;32mimport\u001b[0m \u001b[0marray_to_img\u001b[0m\u001b[1;33m\u001b[0m\u001b[0m\n\u001b[0;32m      2\u001b[0m \u001b[1;31m#img1 = PILImage.fromarray(full[:24])\u001b[0m\u001b[1;33m\u001b[0m\u001b[1;33m\u001b[0m\u001b[0m\n\u001b[1;32m----> 3\u001b[1;33m \u001b[0mimage\u001b[0m \u001b[1;33m=\u001b[0m \u001b[0marray_to_img\u001b[0m\u001b[1;33m(\u001b[0m\u001b[0mfull_nor\u001b[0m\u001b[1;33m[\u001b[0m\u001b[1;33m:\u001b[0m\u001b[1;36m24\u001b[0m\u001b[1;33m]\u001b[0m\u001b[1;33m)\u001b[0m\u001b[1;33m\u001b[0m\u001b[0m\n\u001b[0m",
      "\u001b[1;32m~\\Anaconda3\\envs\\tensorflow_gpu\\lib\\site-packages\\keras\\preprocessing\\image.py\u001b[0m in \u001b[0;36marray_to_img\u001b[1;34m(x, data_format, scale)\u001b[0m\n\u001b[0;32m    297\u001b[0m     \u001b[1;32mif\u001b[0m \u001b[0mx\u001b[0m\u001b[1;33m.\u001b[0m\u001b[0mndim\u001b[0m \u001b[1;33m!=\u001b[0m \u001b[1;36m3\u001b[0m\u001b[1;33m:\u001b[0m\u001b[1;33m\u001b[0m\u001b[0m\n\u001b[0;32m    298\u001b[0m         raise ValueError('Expected image array to have rank 3 (single image). '\n\u001b[1;32m--> 299\u001b[1;33m                          'Got array with shape:', x.shape)\n\u001b[0m\u001b[0;32m    300\u001b[0m \u001b[1;33m\u001b[0m\u001b[0m\n\u001b[0;32m    301\u001b[0m     \u001b[1;32mif\u001b[0m \u001b[0mdata_format\u001b[0m \u001b[1;32mis\u001b[0m \u001b[1;32mNone\u001b[0m\u001b[1;33m:\u001b[0m\u001b[1;33m\u001b[0m\u001b[0m\n",
      "\u001b[1;31mValueError\u001b[0m: ('Expected image array to have rank 3 (single image). Got array with shape:', (24, 24))"
     ]
    }
   ],
   "source": [
    "from keras.preprocessing.image import array_to_img\n",
    "#img1 = PILImage.fromarray(full[:24])\n",
    "image = array_to_img(full_nor[:24])\n"
   ]
  },
  {
   "cell_type": "code",
   "execution_count": 159,
   "metadata": {},
   "outputs": [
    {
     "data": {
      "text/plain": [
       "[         1       2       3       4       5             6       7       8  \\\n",
       " 0  -90.000   0.000   0.000   0.000   0.000  3.520000e-31   0.000   0.000   \n",
       " 1  -68.301 -20.987 -41.868 -52.876 -66.038 -1.607400e+01 -33.469 -70.508   \n",
       " 2  -69.786 -20.980 -40.388 -52.340 -58.297 -1.032600e+01 -34.818 -65.491   \n",
       " 3  -69.829 -20.808 -40.155 -52.315 -58.336 -9.778800e+00 -35.004 -65.132   \n",
       " 4  -69.911 -20.546 -39.815 -52.258 -58.263 -9.359500e+00 -35.124 -64.627   \n",
       " 5  -70.062 -20.375 -39.421 -52.020 -57.907 -9.901900e+00 -35.014 -64.441   \n",
       " 6  -70.174 -19.979 -38.816 -51.864 -56.807 -9.552200e+00 -34.365 -64.645   \n",
       " 7  -70.220 -19.391 -38.060 -51.797 -55.174 -8.168400e+00 -33.306 -65.117   \n",
       " 8  -70.270 -19.019 -37.477 -51.594 -54.407 -7.839600e+00 -32.658 -65.329   \n",
       " 9  -70.319 -19.340 -37.369 -51.339 -53.582 -7.491300e+00 -32.123 -65.443   \n",
       " 10 -70.357 -20.451 -37.803 -51.044 -52.333 -6.669600e+00 -31.564 -65.515   \n",
       " 11 -70.360 -20.822 -37.798 -50.612 -51.695 -6.121000e+00 -30.987 -65.283   \n",
       " 12 -70.332 -20.830 -37.603 -50.224 -51.453 -5.882400e+00 -30.523 -65.038   \n",
       " 13 -70.276 -21.045 -37.592 -50.047 -51.260 -5.910200e+00 -30.299 -65.082   \n",
       " 14 -70.197 -21.302 -37.613 -49.877 -51.075 -6.026100e+00 -30.043 -65.144   \n",
       " 15 -70.111 -21.616 -37.668 -49.676 -50.870 -6.084800e+00 -29.721 -65.190   \n",
       " 16 -70.056 -22.164 -37.892 -49.544 -50.738 -5.908200e+00 -29.536 -65.367   \n",
       " 17 -69.971 -22.548 -38.047 -49.419 -50.287 -5.535900e+00 -29.342 -65.513   \n",
       " 18 -69.861 -22.635 -38.020 -49.257 -49.554 -5.069400e+00 -29.097 -65.566   \n",
       " 19 -69.873 -22.583 -37.752 -48.984 -49.422 -4.814100e+00 -28.866 -65.546   \n",
       " 20 -69.865 -22.552 -37.488 -48.728 -49.417 -4.681400e+00 -28.650 -65.473   \n",
       " 21 -69.699 -22.668 -37.454 -48.610 -48.963 -4.537300e+00 -28.446 -65.376   \n",
       " 22 -69.681 -22.573 -37.116 -48.438 -48.242 -4.300800e+00 -28.251 -65.343   \n",
       " 23 -69.773 -22.325 -36.594 -48.227 -47.493 -3.982500e+00 -28.036 -65.362   \n",
       " \n",
       "                9            10   ...              15       16       17  \\\n",
       " 0   3.520000e-31 -4.830000e-07   ...   -8.260000e-32   0.0000    0.000   \n",
       " 1   2.548000e+00 -4.830000e-07   ...    8.331000e+01 -12.9580 -102.480   \n",
       " 2   4.410100e+00 -4.830000e-07   ...    1.812300e+01  -7.2617  -97.739   \n",
       " 3   4.496200e+00 -4.830000e-07   ...    1.901700e+01  -7.1809  -97.626   \n",
       " 4   4.828000e+00 -4.830000e-07   ...    1.937700e+01  -7.1098  -97.345   \n",
       " 5   5.231900e+00 -4.830000e-07   ...    2.048200e+01  -7.0717  -96.844   \n",
       " 6   5.333300e+00 -4.830000e-07   ...    2.096100e+01  -7.0141  -96.203   \n",
       " 7   5.140600e+00 -4.830000e-07   ...    2.079900e+01  -6.9123  -95.508   \n",
       " 8   5.187200e+00 -4.830000e-07   ...    2.103700e+01  -6.7721  -94.903   \n",
       " 9   5.264600e+00 -4.830000e-07   ...    2.077500e+01  -6.6757  -94.255   \n",
       " 10  5.327000e+00 -4.830000e-07   ...    1.988200e+01  -6.6345  -93.526   \n",
       " 11  5.870800e+00 -4.830000e-07   ...    2.059800e+01  -6.5958  -92.903   \n",
       " 12  6.455900e+00 -4.830000e-07   ...    2.120500e+01  -6.5686  -92.400   \n",
       " 13  6.598600e+00 -4.830000e-07   ...    2.005900e+01  -6.5577  -92.014   \n",
       " 14  6.738700e+00 -4.830000e-07   ...    1.954300e+01  -6.5262  -91.709   \n",
       " 15  6.897300e+00 -4.830000e-07   ...    1.983500e+01  -6.4802  -91.472   \n",
       " 16  6.713400e+00 -4.830000e-07   ...    1.939200e+01  -6.4948  -91.291   \n",
       " 17  6.501400e+00 -4.830000e-07   ...    1.847900e+01  -6.4802  -91.170   \n",
       " 18  6.404800e+00 -4.830000e-07   ...    1.739900e+01  -6.4130  -91.102   \n",
       " 19  6.436300e+00 -4.830000e-07   ...    1.698500e+01  -6.3498  -91.059   \n",
       " 20  6.603000e+00 -4.830000e-07   ...    1.683400e+01  -6.3025  -91.002   \n",
       " 21  6.882100e+00 -4.830000e-07   ...    1.654000e+01  -6.2738  -90.905   \n",
       " 22  7.020000e+00 -4.830000e-07   ...    1.711000e+01  -6.2298  -90.830   \n",
       " 23  7.058900e+00 -4.830000e-07   ...    1.822700e+01  -6.1884  -90.801   \n",
       " \n",
       "               18        19        20            21       22            23  \\\n",
       " 0  -8.260000e-32 -0.000018  0.000005  6.480000e-07   0.0000 -1.320000e-47   \n",
       " 1  -5.134000e+01 -0.000018  0.000005  6.480000e-07   7.2547  2.935500e+01   \n",
       " 2  -4.721400e+01 -0.000018  0.000005  6.480000e-07   7.0335  2.745800e+01   \n",
       " 3  -4.756700e+01 -0.000018  0.000005  6.480000e-07   6.9155  2.796500e+01   \n",
       " 4  -4.781900e+01 -0.000018  0.000005  6.480000e-07   6.7112  2.872100e+01   \n",
       " 5  -4.763400e+01 -0.000018  0.000005  6.480000e-07   6.6646  2.950400e+01   \n",
       " 6  -4.711600e+01 -0.000018  0.000005  6.480000e-07   6.6946  3.038700e+01   \n",
       " 7  -4.648200e+01 -0.000018  0.000005  6.480000e-07   6.8236  3.142100e+01   \n",
       " 8  -4.629100e+01 -0.000018  0.000005  6.480000e-07   7.2045  3.272600e+01   \n",
       " 9  -4.627800e+01 -0.000018  0.000005  6.480000e-07   7.6685  3.408900e+01   \n",
       " 10 -4.629000e+01 -0.000018  0.000005  6.480000e-07   8.1178  3.535300e+01   \n",
       " 11 -4.629500e+01 -0.000018  0.000005  6.480000e-07   8.6959  3.649000e+01   \n",
       " 12 -4.633900e+01 -0.000018  0.000005  6.480000e-07   9.0806  3.746500e+01   \n",
       " 13 -4.646200e+01 -0.000018  0.000005  6.480000e-07   8.9819  3.823700e+01   \n",
       " 14 -4.646600e+01 -0.000018  0.000005  6.480000e-07   8.9936  3.876700e+01   \n",
       " 15 -4.634100e+01 -0.000018  0.000005  6.480000e-07   9.2233  3.912300e+01   \n",
       " 16 -4.625800e+01 -0.000018  0.000005  6.480000e-07   9.4058  3.945300e+01   \n",
       " 17 -4.621700e+01 -0.000018  0.000005  6.480000e-07   9.4679  4.011800e+01   \n",
       " 18 -4.619500e+01 -0.000018  0.000005  6.480000e-07   9.4604  4.114100e+01   \n",
       " 19 -4.603700e+01 -0.000018  0.000005  6.480000e-07   9.8399  4.194100e+01   \n",
       " 20 -4.588100e+01 -0.000018  0.000005  6.480000e-07  10.1990  4.257000e+01   \n",
       " 21 -4.587400e+01 -0.000018  0.000005  6.480000e-07  10.1150  4.315100e+01   \n",
       " 22 -4.580700e+01 -0.000018  0.000005  6.480000e-07  10.1560  4.376500e+01   \n",
       " 23 -4.568800e+01 -0.000018  0.000005  6.480000e-07  10.3140  4.439000e+01   \n",
       " \n",
       "         24  \n",
       " 0    0.000  \n",
       " 1  -19.756  \n",
       " 2  -18.008  \n",
       " 3  -18.298  \n",
       " 4  -18.832  \n",
       " 5  -19.277  \n",
       " 6  -19.690  \n",
       " 7  -20.004  \n",
       " 8  -19.957  \n",
       " 9  -20.012  \n",
       " 10 -20.355  \n",
       " 11 -20.233  \n",
       " 12 -20.082  \n",
       " 13 -20.380  \n",
       " 14 -20.563  \n",
       " 15 -20.542  \n",
       " 16 -20.519  \n",
       " 17 -20.753  \n",
       " 18 -21.169  \n",
       " 19 -20.906  \n",
       " 20 -20.560  \n",
       " 21 -20.793  \n",
       " 22 -21.079  \n",
       " 23 -21.312  \n",
       " \n",
       " [24 rows x 24 columns], 1]"
      ]
     },
     "execution_count": 159,
     "metadata": {},
     "output_type": "execute_result"
    }
   ],
   "source": [
    "data = []\n",
    "data.append(full[:24])\n",
    "data.append(1)\n",
    "data"
   ]
  },
  {
   "cell_type": "code",
   "execution_count": null,
   "metadata": {},
   "outputs": [],
   "source": []
  }
 ],
 "metadata": {
  "kernelspec": {
   "display_name": "Python 3",
   "language": "python",
   "name": "python3"
  },
  "language_info": {
   "codemirror_mode": {
    "name": "ipython",
    "version": 3
   },
   "file_extension": ".py",
   "mimetype": "text/x-python",
   "name": "python",
   "nbconvert_exporter": "python",
   "pygments_lexer": "ipython3",
   "version": "3.6.5"
  }
 },
 "nbformat": 4,
 "nbformat_minor": 2
}
